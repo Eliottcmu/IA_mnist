{
 "cells": [
  {
   "cell_type": "markdown",
   "id": "76673347",
   "metadata": {},
   "source": [
    "# MNIST Projet\n"
   ]
  },
  {
   "cell_type": "code",
   "execution_count": 118,
   "id": "5c463f31",
   "metadata": {},
   "outputs": [],
   "source": [
    "#import des librairies\n",
    "\n",
    "import matplotlib.pyplot as plt                           # Plotting\n",
    "import numpy as np                                        # Numpy: Tableau Multidimensionnel\n",
    "import pandas as pd                                       # Panda: Manipulation des Dataframe\n",
    "import seaborn as sns                                     # Librairie de visualisation\n",
    "import keras\n",
    "\n",
    "# Librairies Scikit Learn pour la visualisation et le traitement des données\n",
    "from sklearn.model_selection import train_test_split      # Split des jeux de données\n",
    "from sklearn.metrics import confusion_matrix              # Analyse des performances de classification\n",
    "from mlxtend.plotting import plot_confusion_matrix\n",
    "\n",
    "import matplotlib.pyplot as plt                           # Plotting\n",
    "import numpy as np                                        # Numpy: Tableau Multidimensionnel\n",
    "import pandas as pd                                       # Panda: Manipulation des Dataframe\n",
    "import seaborn as sns                                     # Librairie de visualisation\n",
    "\n",
    "# Librairies Scikit Learn\n",
    "from sklearn.model_selection import train_test_split      # Split des jeux de données\n",
    "from sklearn.metrics import confusion_matrix              # Analyse des performances de classification\n",
    "from mlxtend.plotting import plot_confusion_matrix\n",
    "\n",
    "# Dataset des chiffres du MNIST\n",
    "from keras.datasets import mnist\n",
    "\n",
    "# Librairies Keras pour la construction du réseau CNN\n",
    "from keras.models import Model, Sequential\n",
    "from keras.models import load_model\n",
    "from keras.layers import Input, Conv2D, MaxPooling2D, BatchNormalization\n",
    "from keras.layers import UpSampling2D, Dropout, Dense, Flatten\n",
    "\n",
    "from tensorflow.keras.utils import plot_model              # Visualisation du modèle crée\n",
    "from tensorflow.keras.callbacks import EarlyStopping       # Permet d'arrêter l'apprentissage quand il n'y a plus de progression\n",
    "from keras.optimizers import Adam    "
   ]
  },
  {
   "cell_type": "code",
   "execution_count": 119,
   "id": "cee54217",
   "metadata": {},
   "outputs": [],
   "source": [
    "# fonction d'affichage pour développer les données matricielles \n",
    "def display_image(X, y, n, label=False):\n",
    "    plt.figure(figsize=(20,2))\n",
    "    for i in range(10):\n",
    "        ax = plt.subplot(1, n, i+1)\n",
    "        plt.imshow(X.values[i].reshape(28,28))\n",
    "        if label:\n",
    "            plt.title(\"Digit: {}\".format(y[i]))\n",
    "        ax.get_xaxis().set_visible(False)\n",
    "        ax.get_yaxis().set_visible(False)\n",
    "    plt.show()"
   ]
  },
  {
   "cell_type": "code",
   "execution_count": 120,
   "id": "85a7c436",
   "metadata": {},
   "outputs": [],
   "source": [
    "#lecture des données\n",
    "# données d'entrainement et données de test\n",
    "\n",
    "train_dir = \"./input/train.csv\"\n",
    "test_dir = \"./input/test.csv\""
   ]
  },
  {
   "cell_type": "code",
   "execution_count": 121,
   "id": "586eae44",
   "metadata": {},
   "outputs": [
    {
     "name": "stdout",
     "output_type": "stream",
     "text": [
      "<class 'pandas.core.frame.DataFrame'>\n",
      "RangeIndex: 42000 entries, 0 to 41999\n",
      "Columns: 785 entries, label to pixel783\n",
      "dtypes: int64(785)\n",
      "memory usage: 251.5 MB\n"
     ]
    }
   ],
   "source": [
    "# Lecture du jeu d'entrainement via pandas depuis un fichier csv\n",
    "df_train = pd.read_csv(train_dir)\n",
    "\n",
    "# Récupération des informations sur le Dataframe du jeu de données\n",
    "df_train.info()"
   ]
  },
  {
   "cell_type": "code",
   "execution_count": 122,
   "id": "c6410ac9",
   "metadata": {},
   "outputs": [
    {
     "data": {
      "text/html": [
       "<div>\n",
       "<style scoped>\n",
       "    .dataframe tbody tr th:only-of-type {\n",
       "        vertical-align: middle;\n",
       "    }\n",
       "\n",
       "    .dataframe tbody tr th {\n",
       "        vertical-align: top;\n",
       "    }\n",
       "\n",
       "    .dataframe thead th {\n",
       "        text-align: right;\n",
       "    }\n",
       "</style>\n",
       "<table border=\"1\" class=\"dataframe\">\n",
       "  <thead>\n",
       "    <tr style=\"text-align: right;\">\n",
       "      <th></th>\n",
       "      <th>label</th>\n",
       "      <th>pixel0</th>\n",
       "      <th>pixel1</th>\n",
       "      <th>pixel2</th>\n",
       "      <th>pixel3</th>\n",
       "      <th>pixel4</th>\n",
       "      <th>pixel5</th>\n",
       "      <th>pixel6</th>\n",
       "      <th>pixel7</th>\n",
       "      <th>pixel8</th>\n",
       "      <th>...</th>\n",
       "      <th>pixel774</th>\n",
       "      <th>pixel775</th>\n",
       "      <th>pixel776</th>\n",
       "      <th>pixel777</th>\n",
       "      <th>pixel778</th>\n",
       "      <th>pixel779</th>\n",
       "      <th>pixel780</th>\n",
       "      <th>pixel781</th>\n",
       "      <th>pixel782</th>\n",
       "      <th>pixel783</th>\n",
       "    </tr>\n",
       "  </thead>\n",
       "  <tbody>\n",
       "    <tr>\n",
       "      <th>0</th>\n",
       "      <td>1</td>\n",
       "      <td>0</td>\n",
       "      <td>0</td>\n",
       "      <td>0</td>\n",
       "      <td>0</td>\n",
       "      <td>0</td>\n",
       "      <td>0</td>\n",
       "      <td>0</td>\n",
       "      <td>0</td>\n",
       "      <td>0</td>\n",
       "      <td>...</td>\n",
       "      <td>0</td>\n",
       "      <td>0</td>\n",
       "      <td>0</td>\n",
       "      <td>0</td>\n",
       "      <td>0</td>\n",
       "      <td>0</td>\n",
       "      <td>0</td>\n",
       "      <td>0</td>\n",
       "      <td>0</td>\n",
       "      <td>0</td>\n",
       "    </tr>\n",
       "    <tr>\n",
       "      <th>1</th>\n",
       "      <td>0</td>\n",
       "      <td>0</td>\n",
       "      <td>0</td>\n",
       "      <td>0</td>\n",
       "      <td>0</td>\n",
       "      <td>0</td>\n",
       "      <td>0</td>\n",
       "      <td>0</td>\n",
       "      <td>0</td>\n",
       "      <td>0</td>\n",
       "      <td>...</td>\n",
       "      <td>0</td>\n",
       "      <td>0</td>\n",
       "      <td>0</td>\n",
       "      <td>0</td>\n",
       "      <td>0</td>\n",
       "      <td>0</td>\n",
       "      <td>0</td>\n",
       "      <td>0</td>\n",
       "      <td>0</td>\n",
       "      <td>0</td>\n",
       "    </tr>\n",
       "    <tr>\n",
       "      <th>2</th>\n",
       "      <td>1</td>\n",
       "      <td>0</td>\n",
       "      <td>0</td>\n",
       "      <td>0</td>\n",
       "      <td>0</td>\n",
       "      <td>0</td>\n",
       "      <td>0</td>\n",
       "      <td>0</td>\n",
       "      <td>0</td>\n",
       "      <td>0</td>\n",
       "      <td>...</td>\n",
       "      <td>0</td>\n",
       "      <td>0</td>\n",
       "      <td>0</td>\n",
       "      <td>0</td>\n",
       "      <td>0</td>\n",
       "      <td>0</td>\n",
       "      <td>0</td>\n",
       "      <td>0</td>\n",
       "      <td>0</td>\n",
       "      <td>0</td>\n",
       "    </tr>\n",
       "    <tr>\n",
       "      <th>3</th>\n",
       "      <td>4</td>\n",
       "      <td>0</td>\n",
       "      <td>0</td>\n",
       "      <td>0</td>\n",
       "      <td>0</td>\n",
       "      <td>0</td>\n",
       "      <td>0</td>\n",
       "      <td>0</td>\n",
       "      <td>0</td>\n",
       "      <td>0</td>\n",
       "      <td>...</td>\n",
       "      <td>0</td>\n",
       "      <td>0</td>\n",
       "      <td>0</td>\n",
       "      <td>0</td>\n",
       "      <td>0</td>\n",
       "      <td>0</td>\n",
       "      <td>0</td>\n",
       "      <td>0</td>\n",
       "      <td>0</td>\n",
       "      <td>0</td>\n",
       "    </tr>\n",
       "    <tr>\n",
       "      <th>4</th>\n",
       "      <td>0</td>\n",
       "      <td>0</td>\n",
       "      <td>0</td>\n",
       "      <td>0</td>\n",
       "      <td>0</td>\n",
       "      <td>0</td>\n",
       "      <td>0</td>\n",
       "      <td>0</td>\n",
       "      <td>0</td>\n",
       "      <td>0</td>\n",
       "      <td>...</td>\n",
       "      <td>0</td>\n",
       "      <td>0</td>\n",
       "      <td>0</td>\n",
       "      <td>0</td>\n",
       "      <td>0</td>\n",
       "      <td>0</td>\n",
       "      <td>0</td>\n",
       "      <td>0</td>\n",
       "      <td>0</td>\n",
       "      <td>0</td>\n",
       "    </tr>\n",
       "  </tbody>\n",
       "</table>\n",
       "<p>5 rows × 785 columns</p>\n",
       "</div>"
      ],
      "text/plain": [
       "   label  pixel0  pixel1  pixel2  pixel3  pixel4  pixel5  pixel6  pixel7  \\\n",
       "0      1       0       0       0       0       0       0       0       0   \n",
       "1      0       0       0       0       0       0       0       0       0   \n",
       "2      1       0       0       0       0       0       0       0       0   \n",
       "3      4       0       0       0       0       0       0       0       0   \n",
       "4      0       0       0       0       0       0       0       0       0   \n",
       "\n",
       "   pixel8  ...  pixel774  pixel775  pixel776  pixel777  pixel778  pixel779  \\\n",
       "0       0  ...         0         0         0         0         0         0   \n",
       "1       0  ...         0         0         0         0         0         0   \n",
       "2       0  ...         0         0         0         0         0         0   \n",
       "3       0  ...         0         0         0         0         0         0   \n",
       "4       0  ...         0         0         0         0         0         0   \n",
       "\n",
       "   pixel780  pixel781  pixel782  pixel783  \n",
       "0         0         0         0         0  \n",
       "1         0         0         0         0  \n",
       "2         0         0         0         0  \n",
       "3         0         0         0         0  \n",
       "4         0         0         0         0  \n",
       "\n",
       "[5 rows x 785 columns]"
      ]
     },
     "execution_count": 122,
     "metadata": {},
     "output_type": "execute_result"
    }
   ],
   "source": [
    "df_train.head() #visualisation des premières lignes du dataframe"
   ]
  },
  {
   "cell_type": "markdown",
   "id": "c411e19a",
   "metadata": {},
   "source": [
    "* chaque pixel est codé de 0 à 255 -> 786 pixels pour une image de 28x28\n",
    "\n",
    "* La première colonne représente le label appelé y (de 0 à 9) les autres colonnes les données des pixels"
   ]
  },
  {
   "cell_type": "code",
   "execution_count": 123,
   "id": "d7076419",
   "metadata": {},
   "outputs": [
    {
     "data": {
      "text/plain": [
       "0    1\n",
       "1    0\n",
       "2    1\n",
       "3    4\n",
       "4    0\n",
       "Name: label, dtype: int64"
      ]
     },
     "execution_count": 123,
     "metadata": {},
     "output_type": "execute_result"
    }
   ],
   "source": [
    "y_train = df_train[\"label\"] #extrait uniquement la colonne label -> sortie cible du modèle (devient dataframe pandas contenant les classes à prédire)\n",
    "X_train = df_train.drop(columns=[\"label\"]) #toutes les colonnes sauf label -> données d'entrainement (devient dataframe pandas contenant les données d'entrainement)\n",
    "\n",
    "y_train.head()\n",
    "\n"
   ]
  },
  {
   "cell_type": "code",
   "execution_count": 124,
   "id": "cf6e32c0",
   "metadata": {},
   "outputs": [
    {
     "data": {
      "image/png": "[encoded data removed]",
      "text/plain": [
       "<Figure size 640x480 with 1 Axes>"
      ]
     },
     "metadata": {},
     "output_type": "display_data"
    }
   ],
   "source": [
    "import seaborn as sns\n",
    "# Visualisation de la répartition des labels\n",
    "sns.set_theme(style='white', context='notebook', palette='deep')\n",
    "ax = sns.countplot(x=y_train)\n",
    "plt.title(\"Répartition des classes\")\n",
    "plt.show()"
   ]
  },
  {
   "cell_type": "code",
   "execution_count": 125,
   "id": "3b97796e",
   "metadata": {},
   "outputs": [
    {
     "data": {
      "image/png": "[encoded data removed]",
      "text/plain": [
       "<Figure size 2000x200 with 10 Axes>"
      ]
     },
     "metadata": {},
     "output_type": "display_data"
    }
   ],
   "source": [
    "# On affiche 10 images connues avec leur labels\n",
    "# X_train.values[0].reshape(28,28)\n",
    "display_image(X_train, y_train, n=10, label=True)"
   ]
  },
  {
   "cell_type": "markdown",
   "id": "5a2b6305",
   "metadata": {},
   "source": [
    "# Préparation des données\n",
    "\n",
    "#### 1. Séparation des données entre entrainement et test\n",
    "utiliser la méthode train_test_split() de scikit_learn\n",
    "\n",
    "#### 2. Reshape des données\n",
    "remettre chaque exemple de 1D (784 valeurs) en structure spatiale 2D (28×28)\n",
    "pour une bonne visualisation\n",
    "pour faire des convolutions (car ça marche sur du 2D)\n",
    "\n",
    "#### 3. Normalisation des valeurs\n",
    "ramener toutes les valeurs entre [0, 1], en divisant chaque pixel par 255, \n",
    "pour pas qu'il y ait de poids bizarres pour les algos\n",
    "\n",
    "#### 4. One hot encoding \n",
    "on fait une matrice de 10 colonnes pour les labels (pareil pour les poids, plus simple a traiter)\n",
    "(label 4 : [0,0,0,0,1,0,0,0,0,0])"
   ]
  },
  {
   "cell_type": "code",
   "execution_count": 126,
   "id": "3185eb85",
   "metadata": {},
   "outputs": [],
   "source": [
    "# 1. Split entre jeu d'entrainement et jeu de validation avec un ratio de 90/10\n",
    "X_train, X_val, y_train, y_val = train_test_split(X_train, y_train, test_size=0.1, shuffle=False)"
   ]
  },
  {
   "cell_type": "code",
   "execution_count": 127,
   "id": "ceada54b",
   "metadata": {},
   "outputs": [],
   "source": [
    "# 2. Reshape des data pour les formatter en 28x28x1 c'est à dire une matrice 3D\n",
    "X_train = X_train.values.reshape(-1, 28,28,1)\n",
    "X_val = X_val.values.reshape(-1, 28,28,1)"
   ]
  },
  {
   "cell_type": "code",
   "execution_count": 128,
   "id": "52f07d25",
   "metadata": {},
   "outputs": [
    {
     "data": {
      "text/plain": [
       "(37800, 28, 28, 1)"
      ]
     },
     "execution_count": 128,
     "metadata": {},
     "output_type": "execute_result"
    }
   ],
   "source": [
    "# Affichage de la nouvelle shape des données (maintenant sous forme de matrice 28x28)\n",
    "X_train.shape"
   ]
  },
  {
   "cell_type": "code",
   "execution_count": 129,
   "id": "fe176ad2",
   "metadata": {},
   "outputs": [],
   "source": [
    "# Application d'un seuil pour contraster les images\n",
    "def apply_contrast(X, seuil=150):\n",
    "    X_contrast = X.copy()\n",
    "    X_contrast[X_contrast >= seuil] = 255\n",
    "    X_contrast[X_contrast < seuil] = 0\n",
    "    return X_contrast"
   ]
  },
  {
   "cell_type": "code",
   "execution_count": 130,
   "id": "e0c5c1a1",
   "metadata": {},
   "outputs": [
    {
     "data": {
      "text/plain": [
       "<matplotlib.image.AxesImage at 0x2046a4e5a00>"
      ]
     },
     "execution_count": 130,
     "metadata": {},
     "output_type": "execute_result"
    },
    {
     "data": {
      "image/png": "[encoded data removed]",
      "text/plain": [
       "<Figure size 640x480 with 1 Axes>"
      ]
     },
     "metadata": {},
     "output_type": "display_data"
    }
   ],
   "source": [
    "plt.imshow((X_train[9].squeeze()))"
   ]
  },
  {
   "cell_type": "code",
   "execution_count": 131,
   "id": "a3634084",
   "metadata": {},
   "outputs": [
    {
     "data": {
      "text/plain": [
       "<matplotlib.image.AxesImage at 0x2042025bf80>"
      ]
     },
     "execution_count": 131,
     "metadata": {},
     "output_type": "execute_result"
    },
    {
     "data": {
      "image/png": "[encoded data removed]",
      "text/plain": [
       "<Figure size 640x480 with 1 Axes>"
      ]
     },
     "metadata": {},
     "output_type": "display_data"
    }
   ],
   "source": [
    "image = apply_contrast(X_train[9])\n",
    "plt.imshow(image.squeeze())\n"
   ]
  },
  {
   "cell_type": "code",
   "execution_count": 132,
   "id": "1cdede59",
   "metadata": {},
   "outputs": [],
   "source": [
    "# 3. Normalisation des données pour avoir des valeurs de pixels entre 0 et 255\n",
    "# Nous n'avons pas besoin d'un Scaler car ici la normalisation est simple, donc on la fait à la main\n",
    "X_train = X_train / 255.0\n",
    "X_val = X_val / 255.0"
   ]
  },
  {
   "cell_type": "code",
   "execution_count": 133,
   "id": "b13a1e28",
   "metadata": {},
   "outputs": [],
   "source": [
    "# pd.get_dummies() possible aussi\n",
    "\n",
    "from tensorflow.keras.utils import to_categorical\n",
    "\n",
    "Y_train = to_categorical(y_train, num_classes=10)\n",
    "Y_val   = to_categorical(y_val, num_classes=10)"
   ]
  },
  {
   "cell_type": "code",
   "execution_count": 134,
   "id": "d9c7ead7",
   "metadata": {},
   "outputs": [
    {
     "name": "stdout",
     "output_type": "stream",
     "text": [
      "La valeur 1 est encodée vers le vecteur [0. 1. 0. 0. 0. 0. 0. 0. 0. 0.]\n",
      "valeur 8 transformée en vecteur: [0. 0. 0. 0. 0. 0. 0. 0. 1. 0.]\n"
     ]
    }
   ],
   "source": [
    "print(\"La valeur {} est encodée vers le vecteur {}\".format(y_train[0], Y_train[0]))\n",
    "print(\"valeur {} transformée en vecteur: {}\".format(y_train[20], Y_train[20]))"
   ]
  },
  {
   "cell_type": "markdown",
   "id": "0b0c3d70",
   "metadata": {},
   "source": [
    "### Augmentation des datas dispo en utilisant des transformations simples"
   ]
  },
  {
   "cell_type": "code",
   "execution_count": 135,
   "id": "51554415",
   "metadata": {},
   "outputs": [],
   "source": [
    "from tensorflow.keras.preprocessing.image import ImageDataGenerator\n",
    "\n",
    "datagen = ImageDataGenerator(\n",
    "          featurewise_center=False,            # set input mean to 0 over the dataset\n",
    "          samplewise_center=False,             # set each sample mean to 0\n",
    "          featurewise_std_normalization=False, # divide inputs by std of the dataset\n",
    "          samplewise_std_normalization=False,  # divide each input by its std\n",
    "          zca_whitening=False,                 # apply ZCA whitening\n",
    "          rotation_range=20,                   # randomly rotate images in the range \n",
    "          zoom_range = 0.1,                    # Randomly zoom image \n",
    "          width_shift_range=0.1,               # randomly shift images horizontally \n",
    "          height_shift_range=0.1,              # randomly shift images vertically \n",
    "          horizontal_flip=False,               # randomly flip images\n",
    "          vertical_flip=False)                 # randomly flip images"
   ]
  },
  {
   "cell_type": "markdown",
   "id": "92552e3f",
   "metadata": {},
   "source": [
    "### Création du modèle de Réseau de Convolution\n",
    "Le processus de Convolution sous-entend généralement constitué de plusieurs étapes qui se répètent dans cet ordre :\n",
    "\n",
    "    Couche de Convolution\n",
    "    Max Pooling\n",
    "    Regularization\n",
    "\n",
    "La dernière couche est le classifier qui permet de donner la probabilité du résultat de classification de l'image (chien / chat). Dans notre cas, c'est la reconnaissance de 0 à 9. "
   ]
  },
  {
   "cell_type": "markdown",
   "id": "5986e3b5",
   "metadata": {},
   "source": [
    "### Convolution 2D\n",
    "\n",
    "Utilisation de filtre de convolution 2D pour récupérer des \"features\" dans les images (des lignes horizontales, verticales, diagonales ...) et si plusieurs couches de convolutions, on récupère des features plus complets (arrondis, quadrillage, ...)\n",
    "\n",
    "Chaque filtre génère une feature map : une carte 2D indiquant où et à quel degré la feature a été détectée.\n",
    "\n",
    "Plus le nombre de filtres est grand, plus le réseau peut détecter de motifs différents.\n",
    "Première couche avec 16 filtres → on obtient 16 feature maps.\n",
    "\n",
    "Chaque feature map peut être vue comme une “dimension” supplémentaire de l’image originale.\n",
    "\n",
    "ATTENTION : si la première couche de Convolution comporte 16 filtres, alors l'image résiduels sera composée de 16 dimensions"
   ]
  },
  {
   "cell_type": "markdown",
   "id": "f3103e65",
   "metadata": {},
   "source": [
    "### Max pooling \n",
    "\n",
    "Réduction de la taille des images (généralement par 2 en fonction des paramètre). \n",
    "Elles permettent d'extraires les caractéristiques les plus importantes et de briser la linéarité de l'image.\n"
   ]
  },
  {
   "cell_type": "markdown",
   "id": "b97757b4",
   "metadata": {},
   "source": [
    "### Création du modèle de Convolution\n",
    "\n",
    "réseau est basé sur plusieurs couche qui répètent le motif de Couche de Convolution , Normalisation , MaxPooling"
   ]
  },
  {
   "cell_type": "code",
   "execution_count": 136,
   "id": "6f63a278",
   "metadata": {},
   "outputs": [],
   "source": [
    "# Initialisation \n",
    "model = Sequential()\n",
    "\n",
    "# ------------------------------------\n",
    "# Couche de Convolution et MaxPooling\n",
    "# ------------------------------------\n",
    "\n",
    "# Conv2D :\n",
    "\n",
    "#     filters : nombres de filtres de convolutions\n",
    "#     kernel_size : taille des filtres de la fenêtre de convolution \n",
    "#     input_shape : taille de l'image en entrée (à préciser seulement pour la première couche)\n",
    "#     activation  : choix de la fonction d'activation\n",
    "\n",
    "# BatchNormalisation : permet de normaliser les coefficients d'activation afin de les maintenirs proche de 0 pour simplifier les calculs numériques\n",
    "\n",
    "# MaxPooling : Opération de maxPooling sur des données spatiales (2D)\n",
    "\n",
    "# Dropout : permet de désactiver aléatoirement une proportion de neurones (afin d'éviter l'overfitting sur le jeu d'entrainement)\n",
    "model.add(Input(shape=(28,28,1)))  # couche d'entrée indiquant la taille des images 28x28x1\n",
    "\n",
    "model.add(Conv2D(filters = 32, kernel_size = (5, 5), activation='relu', padding='Same'))\n",
    "model.add(BatchNormalization())\n",
    "model.add(Conv2D(filters = 32, kernel_size = (5, 5), activation='relu', padding='Same'))\n",
    "model.add(BatchNormalization())\n",
    "model.add(MaxPooling2D(strides=(2,2)))\n",
    "model.add(Dropout(0.2))\n",
    "\n",
    "model.add(Conv2D(filters = 64, kernel_size = (3, 3), activation='relu'))\n",
    "model.add(BatchNormalization())\n",
    "model.add(Conv2D(filters = 64, kernel_size = (3, 3), activation='relu'))\n",
    "model.add(BatchNormalization())\n",
    "model.add(MaxPooling2D(strides=(2,2)))\n",
    "model.add(Dropout(0.2))"
   ]
  },
  {
   "cell_type": "markdown",
   "id": "bd8d20f5",
   "metadata": {},
   "source": [
    "## Classifier\n",
    "\n",
    "couche de sortie de 10 neurones (vecteur de proba pour les nombres de 0 à 9)\n",
    "\n",
    "\n",
    "Flatten → convertit l’information spatiale en vecteur global.\n",
    "\n",
    "Dense(512) → espace riche pour apprendre combinaisons non linéaires de features locales ; large capacité.\n",
    "\n",
    "Dropout → régularise ce grand espace.\n",
    "\n",
    "Dense(128) → compression, extraire représentation plus compacte et plus adaptée à la décision finale.\n",
    "\n",
    "Dropout → régularisation supplémentaire.\n",
    "\n",
    "Dense(10, softmax) → projection finale sur l’espace des classes et transformation en probabilités exploitables par la fonction de perte."
   ]
  },
  {
   "cell_type": "code",
   "execution_count": 137,
   "id": "e43cf6fa",
   "metadata": {},
   "outputs": [],
   "source": [
    "model.add(Flatten())     # Applatissement de la sortie du réseau de convolution de 1 dimension\n",
    "\n",
    "# on fait 3 couches denses (fully connected) et pas direct 512->10 pour améliorer l'apprentissage et eviter l'overfitting\n",
    "\n",
    "#on fait dense 512 pour extraire bcp de d'interaction de features \n",
    "model.add(Dense(units=512, activation='relu')) #ReLU(z)=max(0,z) fonction d'activation\n",
    "model.add(Dropout(0.2)) #à chaque itération d’entraînement, met à zéro aléatoirement 20 % des activations en entrée de la couche suivante pour limiter l'overfitting\n",
    "\n",
    "#on réduit à 128 pour faire une sorte de compression des données pour limiter l'overfitting\n",
    "model.add(Dense(units=128, activation='relu'))\n",
    "model.add(Dropout(0.2))\n",
    "\n",
    "#couche de sortie de 10 = nombre de classe à prédire \n",
    "model.add(Dense(units=10, activation='softmax')) #softmax : résultat vecteur de probabilités somme = 1"
   ]
  },
  {
   "cell_type": "code",
   "execution_count": 138,
   "id": "cb8b915f",
   "metadata": {},
   "outputs": [
    {
     "data": {
      "text/html": [
       "<pre style=\"white-space:pre;overflow-x:auto;line-height:normal;font-family:Menlo,'DejaVu Sans Mono',consolas,'Courier New',monospace\"><span style=\"font-weight: bold\">Model: \"sequential_8\"</span>\n",
       "</pre>\n"
      ],
      "text/plain": [
       "\u001b[1mModel: \"sequential_8\"\u001b[0m\n"
      ]
     },
     "metadata": {},
     "output_type": "display_data"
    },
    {
     "data": {
      "text/html": [
       "<pre style=\"white-space:pre;overflow-x:auto;line-height:normal;font-family:Menlo,'DejaVu Sans Mono',consolas,'Courier New',monospace\">┏━━━━━━━━━━━━━━━━━━━━━━━━━━━━━━━━━┳━━━━━━━━━━━━━━━━━━━━━━━━┳━━━━━━━━━━━━━━━┓\n",
       "┃<span style=\"font-weight: bold\"> Layer (type)                    </span>┃<span style=\"font-weight: bold\"> Output Shape           </span>┃<span style=\"font-weight: bold\">       Param # </span>┃\n",
       "┡━━━━━━━━━━━━━━━━━━━━━━━━━━━━━━━━━╇━━━━━━━━━━━━━━━━━━━━━━━━╇━━━━━━━━━━━━━━━┩\n",
       "│ conv2d_32 (<span style=\"color: #0087ff; text-decoration-color: #0087ff\">Conv2D</span>)              │ (<span style=\"color: #00d7ff; text-decoration-color: #00d7ff\">None</span>, <span style=\"color: #00af00; text-decoration-color: #00af00\">28</span>, <span style=\"color: #00af00; text-decoration-color: #00af00\">28</span>, <span style=\"color: #00af00; text-decoration-color: #00af00\">32</span>)     │           <span style=\"color: #00af00; text-decoration-color: #00af00\">832</span> │\n",
       "├─────────────────────────────────┼────────────────────────┼───────────────┤\n",
       "│ batch_normalization_32          │ (<span style=\"color: #00d7ff; text-decoration-color: #00d7ff\">None</span>, <span style=\"color: #00af00; text-decoration-color: #00af00\">28</span>, <span style=\"color: #00af00; text-decoration-color: #00af00\">28</span>, <span style=\"color: #00af00; text-decoration-color: #00af00\">32</span>)     │           <span style=\"color: #00af00; text-decoration-color: #00af00\">128</span> │\n",
       "│ (<span style=\"color: #0087ff; text-decoration-color: #0087ff\">BatchNormalization</span>)            │                        │               │\n",
       "├─────────────────────────────────┼────────────────────────┼───────────────┤\n",
       "│ conv2d_33 (<span style=\"color: #0087ff; text-decoration-color: #0087ff\">Conv2D</span>)              │ (<span style=\"color: #00d7ff; text-decoration-color: #00d7ff\">None</span>, <span style=\"color: #00af00; text-decoration-color: #00af00\">28</span>, <span style=\"color: #00af00; text-decoration-color: #00af00\">28</span>, <span style=\"color: #00af00; text-decoration-color: #00af00\">32</span>)     │        <span style=\"color: #00af00; text-decoration-color: #00af00\">25,632</span> │\n",
       "├─────────────────────────────────┼────────────────────────┼───────────────┤\n",
       "│ batch_normalization_33          │ (<span style=\"color: #00d7ff; text-decoration-color: #00d7ff\">None</span>, <span style=\"color: #00af00; text-decoration-color: #00af00\">28</span>, <span style=\"color: #00af00; text-decoration-color: #00af00\">28</span>, <span style=\"color: #00af00; text-decoration-color: #00af00\">32</span>)     │           <span style=\"color: #00af00; text-decoration-color: #00af00\">128</span> │\n",
       "│ (<span style=\"color: #0087ff; text-decoration-color: #0087ff\">BatchNormalization</span>)            │                        │               │\n",
       "├─────────────────────────────────┼────────────────────────┼───────────────┤\n",
       "│ max_pooling2d_16 (<span style=\"color: #0087ff; text-decoration-color: #0087ff\">MaxPooling2D</span>) │ (<span style=\"color: #00d7ff; text-decoration-color: #00d7ff\">None</span>, <span style=\"color: #00af00; text-decoration-color: #00af00\">14</span>, <span style=\"color: #00af00; text-decoration-color: #00af00\">14</span>, <span style=\"color: #00af00; text-decoration-color: #00af00\">32</span>)     │             <span style=\"color: #00af00; text-decoration-color: #00af00\">0</span> │\n",
       "├─────────────────────────────────┼────────────────────────┼───────────────┤\n",
       "│ dropout_18 (<span style=\"color: #0087ff; text-decoration-color: #0087ff\">Dropout</span>)            │ (<span style=\"color: #00d7ff; text-decoration-color: #00d7ff\">None</span>, <span style=\"color: #00af00; text-decoration-color: #00af00\">14</span>, <span style=\"color: #00af00; text-decoration-color: #00af00\">14</span>, <span style=\"color: #00af00; text-decoration-color: #00af00\">32</span>)     │             <span style=\"color: #00af00; text-decoration-color: #00af00\">0</span> │\n",
       "├─────────────────────────────────┼────────────────────────┼───────────────┤\n",
       "│ conv2d_34 (<span style=\"color: #0087ff; text-decoration-color: #0087ff\">Conv2D</span>)              │ (<span style=\"color: #00d7ff; text-decoration-color: #00d7ff\">None</span>, <span style=\"color: #00af00; text-decoration-color: #00af00\">12</span>, <span style=\"color: #00af00; text-decoration-color: #00af00\">12</span>, <span style=\"color: #00af00; text-decoration-color: #00af00\">64</span>)     │        <span style=\"color: #00af00; text-decoration-color: #00af00\">18,496</span> │\n",
       "├─────────────────────────────────┼────────────────────────┼───────────────┤\n",
       "│ batch_normalization_34          │ (<span style=\"color: #00d7ff; text-decoration-color: #00d7ff\">None</span>, <span style=\"color: #00af00; text-decoration-color: #00af00\">12</span>, <span style=\"color: #00af00; text-decoration-color: #00af00\">12</span>, <span style=\"color: #00af00; text-decoration-color: #00af00\">64</span>)     │           <span style=\"color: #00af00; text-decoration-color: #00af00\">256</span> │\n",
       "│ (<span style=\"color: #0087ff; text-decoration-color: #0087ff\">BatchNormalization</span>)            │                        │               │\n",
       "├─────────────────────────────────┼────────────────────────┼───────────────┤\n",
       "│ conv2d_35 (<span style=\"color: #0087ff; text-decoration-color: #0087ff\">Conv2D</span>)              │ (<span style=\"color: #00d7ff; text-decoration-color: #00d7ff\">None</span>, <span style=\"color: #00af00; text-decoration-color: #00af00\">10</span>, <span style=\"color: #00af00; text-decoration-color: #00af00\">10</span>, <span style=\"color: #00af00; text-decoration-color: #00af00\">64</span>)     │        <span style=\"color: #00af00; text-decoration-color: #00af00\">36,928</span> │\n",
       "├─────────────────────────────────┼────────────────────────┼───────────────┤\n",
       "│ batch_normalization_35          │ (<span style=\"color: #00d7ff; text-decoration-color: #00d7ff\">None</span>, <span style=\"color: #00af00; text-decoration-color: #00af00\">10</span>, <span style=\"color: #00af00; text-decoration-color: #00af00\">10</span>, <span style=\"color: #00af00; text-decoration-color: #00af00\">64</span>)     │           <span style=\"color: #00af00; text-decoration-color: #00af00\">256</span> │\n",
       "│ (<span style=\"color: #0087ff; text-decoration-color: #0087ff\">BatchNormalization</span>)            │                        │               │\n",
       "├─────────────────────────────────┼────────────────────────┼───────────────┤\n",
       "│ max_pooling2d_17 (<span style=\"color: #0087ff; text-decoration-color: #0087ff\">MaxPooling2D</span>) │ (<span style=\"color: #00d7ff; text-decoration-color: #00d7ff\">None</span>, <span style=\"color: #00af00; text-decoration-color: #00af00\">5</span>, <span style=\"color: #00af00; text-decoration-color: #00af00\">5</span>, <span style=\"color: #00af00; text-decoration-color: #00af00\">64</span>)       │             <span style=\"color: #00af00; text-decoration-color: #00af00\">0</span> │\n",
       "├─────────────────────────────────┼────────────────────────┼───────────────┤\n",
       "│ dropout_19 (<span style=\"color: #0087ff; text-decoration-color: #0087ff\">Dropout</span>)            │ (<span style=\"color: #00d7ff; text-decoration-color: #00d7ff\">None</span>, <span style=\"color: #00af00; text-decoration-color: #00af00\">5</span>, <span style=\"color: #00af00; text-decoration-color: #00af00\">5</span>, <span style=\"color: #00af00; text-decoration-color: #00af00\">64</span>)       │             <span style=\"color: #00af00; text-decoration-color: #00af00\">0</span> │\n",
       "├─────────────────────────────────┼────────────────────────┼───────────────┤\n",
       "│ flatten_1 (<span style=\"color: #0087ff; text-decoration-color: #0087ff\">Flatten</span>)             │ (<span style=\"color: #00d7ff; text-decoration-color: #00d7ff\">None</span>, <span style=\"color: #00af00; text-decoration-color: #00af00\">1600</span>)           │             <span style=\"color: #00af00; text-decoration-color: #00af00\">0</span> │\n",
       "├─────────────────────────────────┼────────────────────────┼───────────────┤\n",
       "│ dense_3 (<span style=\"color: #0087ff; text-decoration-color: #0087ff\">Dense</span>)                 │ (<span style=\"color: #00d7ff; text-decoration-color: #00d7ff\">None</span>, <span style=\"color: #00af00; text-decoration-color: #00af00\">512</span>)            │       <span style=\"color: #00af00; text-decoration-color: #00af00\">819,712</span> │\n",
       "├─────────────────────────────────┼────────────────────────┼───────────────┤\n",
       "│ dropout_20 (<span style=\"color: #0087ff; text-decoration-color: #0087ff\">Dropout</span>)            │ (<span style=\"color: #00d7ff; text-decoration-color: #00d7ff\">None</span>, <span style=\"color: #00af00; text-decoration-color: #00af00\">512</span>)            │             <span style=\"color: #00af00; text-decoration-color: #00af00\">0</span> │\n",
       "├─────────────────────────────────┼────────────────────────┼───────────────┤\n",
       "│ dense_4 (<span style=\"color: #0087ff; text-decoration-color: #0087ff\">Dense</span>)                 │ (<span style=\"color: #00d7ff; text-decoration-color: #00d7ff\">None</span>, <span style=\"color: #00af00; text-decoration-color: #00af00\">128</span>)            │        <span style=\"color: #00af00; text-decoration-color: #00af00\">65,664</span> │\n",
       "├─────────────────────────────────┼────────────────────────┼───────────────┤\n",
       "│ dropout_21 (<span style=\"color: #0087ff; text-decoration-color: #0087ff\">Dropout</span>)            │ (<span style=\"color: #00d7ff; text-decoration-color: #00d7ff\">None</span>, <span style=\"color: #00af00; text-decoration-color: #00af00\">128</span>)            │             <span style=\"color: #00af00; text-decoration-color: #00af00\">0</span> │\n",
       "├─────────────────────────────────┼────────────────────────┼───────────────┤\n",
       "│ dense_5 (<span style=\"color: #0087ff; text-decoration-color: #0087ff\">Dense</span>)                 │ (<span style=\"color: #00d7ff; text-decoration-color: #00d7ff\">None</span>, <span style=\"color: #00af00; text-decoration-color: #00af00\">10</span>)             │         <span style=\"color: #00af00; text-decoration-color: #00af00\">1,290</span> │\n",
       "└─────────────────────────────────┴────────────────────────┴───────────────┘\n",
       "</pre>\n"
      ],
      "text/plain": [
       "┏━━━━━━━━━━━━━━━━━━━━━━━━━━━━━━━━━┳━━━━━━━━━━━━━━━━━━━━━━━━┳━━━━━━━━━━━━━━━┓\n",
       "┃\u001b[1m \u001b[0m\u001b[1mLayer (type)                   \u001b[0m\u001b[1m \u001b[0m┃\u001b[1m \u001b[0m\u001b[1mOutput Shape          \u001b[0m\u001b[1m \u001b[0m┃\u001b[1m \u001b[0m\u001b[1m      Param #\u001b[0m\u001b[1m \u001b[0m┃\n",
       "┡━━━━━━━━━━━━━━━━━━━━━━━━━━━━━━━━━╇━━━━━━━━━━━━━━━━━━━━━━━━╇━━━━━━━━━━━━━━━┩\n",
       "│ conv2d_32 (\u001b[38;5;33mConv2D\u001b[0m)              │ (\u001b[38;5;45mNone\u001b[0m, \u001b[38;5;34m28\u001b[0m, \u001b[38;5;34m28\u001b[0m, \u001b[38;5;34m32\u001b[0m)     │           \u001b[38;5;34m832\u001b[0m │\n",
       "├─────────────────────────────────┼────────────────────────┼───────────────┤\n",
       "│ batch_normalization_32          │ (\u001b[38;5;45mNone\u001b[0m, \u001b[38;5;34m28\u001b[0m, \u001b[38;5;34m28\u001b[0m, \u001b[38;5;34m32\u001b[0m)     │           \u001b[38;5;34m128\u001b[0m │\n",
       "│ (\u001b[38;5;33mBatchNormalization\u001b[0m)            │                        │               │\n",
       "├─────────────────────────────────┼────────────────────────┼───────────────┤\n",
       "│ conv2d_33 (\u001b[38;5;33mConv2D\u001b[0m)              │ (\u001b[38;5;45mNone\u001b[0m, \u001b[38;5;34m28\u001b[0m, \u001b[38;5;34m28\u001b[0m, \u001b[38;5;34m32\u001b[0m)     │        \u001b[38;5;34m25,632\u001b[0m │\n",
       "├─────────────────────────────────┼────────────────────────┼───────────────┤\n",
       "│ batch_normalization_33          │ (\u001b[38;5;45mNone\u001b[0m, \u001b[38;5;34m28\u001b[0m, \u001b[38;5;34m28\u001b[0m, \u001b[38;5;34m32\u001b[0m)     │           \u001b[38;5;34m128\u001b[0m │\n",
       "│ (\u001b[38;5;33mBatchNormalization\u001b[0m)            │                        │               │\n",
       "├─────────────────────────────────┼────────────────────────┼───────────────┤\n",
       "│ max_pooling2d_16 (\u001b[38;5;33mMaxPooling2D\u001b[0m) │ (\u001b[38;5;45mNone\u001b[0m, \u001b[38;5;34m14\u001b[0m, \u001b[38;5;34m14\u001b[0m, \u001b[38;5;34m32\u001b[0m)     │             \u001b[38;5;34m0\u001b[0m │\n",
       "├─────────────────────────────────┼────────────────────────┼───────────────┤\n",
       "│ dropout_18 (\u001b[38;5;33mDropout\u001b[0m)            │ (\u001b[38;5;45mNone\u001b[0m, \u001b[38;5;34m14\u001b[0m, \u001b[38;5;34m14\u001b[0m, \u001b[38;5;34m32\u001b[0m)     │             \u001b[38;5;34m0\u001b[0m │\n",
       "├─────────────────────────────────┼────────────────────────┼───────────────┤\n",
       "│ conv2d_34 (\u001b[38;5;33mConv2D\u001b[0m)              │ (\u001b[38;5;45mNone\u001b[0m, \u001b[38;5;34m12\u001b[0m, \u001b[38;5;34m12\u001b[0m, \u001b[38;5;34m64\u001b[0m)     │        \u001b[38;5;34m18,496\u001b[0m │\n",
       "├─────────────────────────────────┼────────────────────────┼───────────────┤\n",
       "│ batch_normalization_34          │ (\u001b[38;5;45mNone\u001b[0m, \u001b[38;5;34m12\u001b[0m, \u001b[38;5;34m12\u001b[0m, \u001b[38;5;34m64\u001b[0m)     │           \u001b[38;5;34m256\u001b[0m │\n",
       "│ (\u001b[38;5;33mBatchNormalization\u001b[0m)            │                        │               │\n",
       "├─────────────────────────────────┼────────────────────────┼───────────────┤\n",
       "│ conv2d_35 (\u001b[38;5;33mConv2D\u001b[0m)              │ (\u001b[38;5;45mNone\u001b[0m, \u001b[38;5;34m10\u001b[0m, \u001b[38;5;34m10\u001b[0m, \u001b[38;5;34m64\u001b[0m)     │        \u001b[38;5;34m36,928\u001b[0m │\n",
       "├─────────────────────────────────┼────────────────────────┼───────────────┤\n",
       "│ batch_normalization_35          │ (\u001b[38;5;45mNone\u001b[0m, \u001b[38;5;34m10\u001b[0m, \u001b[38;5;34m10\u001b[0m, \u001b[38;5;34m64\u001b[0m)     │           \u001b[38;5;34m256\u001b[0m │\n",
       "│ (\u001b[38;5;33mBatchNormalization\u001b[0m)            │                        │               │\n",
       "├─────────────────────────────────┼────────────────────────┼───────────────┤\n",
       "│ max_pooling2d_17 (\u001b[38;5;33mMaxPooling2D\u001b[0m) │ (\u001b[38;5;45mNone\u001b[0m, \u001b[38;5;34m5\u001b[0m, \u001b[38;5;34m5\u001b[0m, \u001b[38;5;34m64\u001b[0m)       │             \u001b[38;5;34m0\u001b[0m │\n",
       "├─────────────────────────────────┼────────────────────────┼───────────────┤\n",
       "│ dropout_19 (\u001b[38;5;33mDropout\u001b[0m)            │ (\u001b[38;5;45mNone\u001b[0m, \u001b[38;5;34m5\u001b[0m, \u001b[38;5;34m5\u001b[0m, \u001b[38;5;34m64\u001b[0m)       │             \u001b[38;5;34m0\u001b[0m │\n",
       "├─────────────────────────────────┼────────────────────────┼───────────────┤\n",
       "│ flatten_1 (\u001b[38;5;33mFlatten\u001b[0m)             │ (\u001b[38;5;45mNone\u001b[0m, \u001b[38;5;34m1600\u001b[0m)           │             \u001b[38;5;34m0\u001b[0m │\n",
       "├─────────────────────────────────┼────────────────────────┼───────────────┤\n",
       "│ dense_3 (\u001b[38;5;33mDense\u001b[0m)                 │ (\u001b[38;5;45mNone\u001b[0m, \u001b[38;5;34m512\u001b[0m)            │       \u001b[38;5;34m819,712\u001b[0m │\n",
       "├─────────────────────────────────┼────────────────────────┼───────────────┤\n",
       "│ dropout_20 (\u001b[38;5;33mDropout\u001b[0m)            │ (\u001b[38;5;45mNone\u001b[0m, \u001b[38;5;34m512\u001b[0m)            │             \u001b[38;5;34m0\u001b[0m │\n",
       "├─────────────────────────────────┼────────────────────────┼───────────────┤\n",
       "│ dense_4 (\u001b[38;5;33mDense\u001b[0m)                 │ (\u001b[38;5;45mNone\u001b[0m, \u001b[38;5;34m128\u001b[0m)            │        \u001b[38;5;34m65,664\u001b[0m │\n",
       "├─────────────────────────────────┼────────────────────────┼───────────────┤\n",
       "│ dropout_21 (\u001b[38;5;33mDropout\u001b[0m)            │ (\u001b[38;5;45mNone\u001b[0m, \u001b[38;5;34m128\u001b[0m)            │             \u001b[38;5;34m0\u001b[0m │\n",
       "├─────────────────────────────────┼────────────────────────┼───────────────┤\n",
       "│ dense_5 (\u001b[38;5;33mDense\u001b[0m)                 │ (\u001b[38;5;45mNone\u001b[0m, \u001b[38;5;34m10\u001b[0m)             │         \u001b[38;5;34m1,290\u001b[0m │\n",
       "└─────────────────────────────────┴────────────────────────┴───────────────┘\n"
      ]
     },
     "metadata": {},
     "output_type": "display_data"
    },
    {
     "data": {
      "text/html": [
       "<pre style=\"white-space:pre;overflow-x:auto;line-height:normal;font-family:Menlo,'DejaVu Sans Mono',consolas,'Courier New',monospace\"><span style=\"font-weight: bold\"> Total params: </span><span style=\"color: #00af00; text-decoration-color: #00af00\">969,322</span> (3.70 MB)\n",
       "</pre>\n"
      ],
      "text/plain": [
       "\u001b[1m Total params: \u001b[0m\u001b[38;5;34m969,322\u001b[0m (3.70 MB)\n"
      ]
     },
     "metadata": {},
     "output_type": "display_data"
    },
    {
     "data": {
      "text/html": [
       "<pre style=\"white-space:pre;overflow-x:auto;line-height:normal;font-family:Menlo,'DejaVu Sans Mono',consolas,'Courier New',monospace\"><span style=\"font-weight: bold\"> Trainable params: </span><span style=\"color: #00af00; text-decoration-color: #00af00\">968,938</span> (3.70 MB)\n",
       "</pre>\n"
      ],
      "text/plain": [
       "\u001b[1m Trainable params: \u001b[0m\u001b[38;5;34m968,938\u001b[0m (3.70 MB)\n"
      ]
     },
     "metadata": {},
     "output_type": "display_data"
    },
    {
     "data": {
      "text/html": [
       "<pre style=\"white-space:pre;overflow-x:auto;line-height:normal;font-family:Menlo,'DejaVu Sans Mono',consolas,'Courier New',monospace\"><span style=\"font-weight: bold\"> Non-trainable params: </span><span style=\"color: #00af00; text-decoration-color: #00af00\">384</span> (1.50 KB)\n",
       "</pre>\n"
      ],
      "text/plain": [
       "\u001b[1m Non-trainable params: \u001b[0m\u001b[38;5;34m384\u001b[0m (1.50 KB)\n"
      ]
     },
     "metadata": {},
     "output_type": "display_data"
    }
   ],
   "source": [
    "# Récapitulatif de l'architecture modèle\n",
    "model.summary()"
   ]
  },
  {
   "cell_type": "markdown",
   "id": "aeea03da",
   "metadata": {},
   "source": [
    "### optimiseur : Adam\n",
    "\n",
    "permet une bonne descente de gradient rapide "
   ]
  },
  {
   "cell_type": "code",
   "execution_count": 142,
   "id": "7e337f6a",
   "metadata": {},
   "outputs": [],
   "source": [
    "# Sélection de l'optimiser pour la decente de gradient\n",
    "\n",
    "model.compile(loss='categorical_crossentropy', \n",
    "              optimizer = Adam(learning_rate=0.0001), \n",
    "              metrics=[\"accuracy\"])"
   ]
  },
  {
   "cell_type": "markdown",
   "id": "9cb02a09",
   "metadata": {},
   "source": [
    "# Entrainement du modèle"
   ]
  },
  {
   "cell_type": "code",
   "execution_count": 143,
   "id": "ea9247aa",
   "metadata": {},
   "outputs": [],
   "source": [
    "# Permet de s'arrêter si le metric ne s'améliore pas\n",
    "\n",
    "earlystop = EarlyStopping(monitor='val_loss', \n",
    "                          min_delta=0, \n",
    "                          patience=30, \n",
    "                          verbose=1,\n",
    "                          restore_best_weights=True,\n",
    "                          mode='auto')"
   ]
  },
  {
   "cell_type": "code",
   "execution_count": 146,
   "id": "ca39d5ff",
   "metadata": {},
   "outputs": [
    {
     "name": "stdout",
     "output_type": "stream",
     "text": [
      "Epoch 1/200\n"
     ]
    },
    {
     "name": "stderr",
     "output_type": "stream",
     "text": [
      "c:\\Users\\eliot\\AppData\\Local\\Programs\\Python\\Python312\\Lib\\site-packages\\keras\\src\\trainers\\data_adapters\\py_dataset_adapter.py:121: UserWarning: Your `PyDataset` class should call `super().__init__(**kwargs)` in its constructor. `**kwargs` can include `workers`, `use_multiprocessing`, `max_queue_size`. Do not pass these arguments to `fit()`, as they will be ignored.\n",
      "  self._warn_if_super_not_called()\n"
     ]
    },
    {
     "name": "stdout",
     "output_type": "stream",
     "text": [
      "\u001b[1m200/200\u001b[0m \u001b[32m━━━━━━━━━━━━━━━━━━━━\u001b[0m\u001b[37m\u001b[0m \u001b[1m13s\u001b[0m 49ms/step - accuracy: 0.4381 - loss: 1.7084 - val_accuracy: 0.2876 - val_loss: 2.0317\n",
      "Epoch 2/200\n",
      "\u001b[1m200/200\u001b[0m \u001b[32m━━━━━━━━━━━━━━━━━━━━\u001b[0m\u001b[37m\u001b[0m \u001b[1m6s\u001b[0m 28ms/step - accuracy: 0.7331 - loss: 0.8133 - val_accuracy: 0.7614 - val_loss: 0.8321\n",
      "Epoch 3/200\n",
      "\u001b[1m200/200\u001b[0m \u001b[32m━━━━━━━━━━━━━━━━━━━━\u001b[0m\u001b[37m\u001b[0m \u001b[1m6s\u001b[0m 28ms/step - accuracy: 0.8239 - loss: 0.5624 - val_accuracy: 0.9531 - val_loss: 0.1632\n",
      "Epoch 4/200\n",
      "\u001b[1m200/200\u001b[0m \u001b[32m━━━━━━━━━━━━━━━━━━━━\u001b[0m\u001b[37m\u001b[0m \u001b[1m6s\u001b[0m 28ms/step - accuracy: 0.8581 - loss: 0.4639 - val_accuracy: 0.9655 - val_loss: 0.1089\n",
      "Epoch 5/200\n",
      "\u001b[1m200/200\u001b[0m \u001b[32m━━━━━━━━━━━━━━━━━━━━\u001b[0m\u001b[37m\u001b[0m \u001b[1m6s\u001b[0m 28ms/step - accuracy: 0.8878 - loss: 0.3598 - val_accuracy: 0.9733 - val_loss: 0.0860\n",
      "Epoch 6/200\n",
      "\u001b[1m180/200\u001b[0m \u001b[32m━━━━━━━━━━━━━━━━━━\u001b[0m\u001b[37m━━\u001b[0m \u001b[1m0s\u001b[0m 22ms/step - accuracy: 0.9033 - loss: 0.3179"
     ]
    },
    {
     "name": "stderr",
     "output_type": "stream",
     "text": [
      "c:\\Users\\eliot\\AppData\\Local\\Programs\\Python\\Python312\\Lib\\site-packages\\keras\\src\\trainers\\epoch_iterator.py:116: UserWarning: Your input ran out of data; interrupting training. Make sure that your dataset or generator can generate at least `steps_per_epoch * epochs` batches. You may need to use the `.repeat()` function when building your dataset.\n",
      "  self._interrupted_warning()\n"
     ]
    },
    {
     "name": "stdout",
     "output_type": "stream",
     "text": [
      "\u001b[1m200/200\u001b[0m \u001b[32m━━━━━━━━━━━━━━━━━━━━\u001b[0m\u001b[37m\u001b[0m \u001b[1m5s\u001b[0m 26ms/step - accuracy: 0.9033 - loss: 0.3119 - val_accuracy: 0.9743 - val_loss: 0.0768\n",
      "Epoch 7/200\n",
      "\u001b[1m200/200\u001b[0m \u001b[32m━━━━━━━━━━━━━━━━━━━━\u001b[0m\u001b[37m\u001b[0m \u001b[1m6s\u001b[0m 28ms/step - accuracy: 0.9090 - loss: 0.2906 - val_accuracy: 0.9740 - val_loss: 0.0766\n",
      "Epoch 8/200\n",
      "\u001b[1m200/200\u001b[0m \u001b[32m━━━━━━━━━━━━━━━━━━━━\u001b[0m\u001b[37m\u001b[0m \u001b[1m6s\u001b[0m 28ms/step - accuracy: 0.9236 - loss: 0.2484 - val_accuracy: 0.9781 - val_loss: 0.0601\n",
      "Epoch 9/200\n",
      "\u001b[1m200/200\u001b[0m \u001b[32m━━━━━━━━━━━━━━━━━━━━\u001b[0m\u001b[37m\u001b[0m \u001b[1m6s\u001b[0m 29ms/step - accuracy: 0.9267 - loss: 0.2296 - val_accuracy: 0.9779 - val_loss: 0.0682\n",
      "Epoch 10/200\n",
      "\u001b[1m200/200\u001b[0m \u001b[32m━━━━━━━━━━━━━━━━━━━━\u001b[0m\u001b[37m\u001b[0m \u001b[1m6s\u001b[0m 28ms/step - accuracy: 0.9306 - loss: 0.2220 - val_accuracy: 0.9807 - val_loss: 0.0552\n",
      "Epoch 11/200\n",
      "\u001b[1m200/200\u001b[0m \u001b[32m━━━━━━━━━━━━━━━━━━━━\u001b[0m\u001b[37m\u001b[0m \u001b[1m6s\u001b[0m 29ms/step - accuracy: 0.9433 - loss: 0.1878 - val_accuracy: 0.9810 - val_loss: 0.0533\n",
      "Epoch 12/200\n",
      "\u001b[1m200/200\u001b[0m \u001b[32m━━━━━━━━━━━━━━━━━━━━\u001b[0m\u001b[37m\u001b[0m \u001b[1m5s\u001b[0m 26ms/step - accuracy: 0.9408 - loss: 0.1891 - val_accuracy: 0.9833 - val_loss: 0.0548\n",
      "Epoch 13/200\n",
      "\u001b[1m200/200\u001b[0m \u001b[32m━━━━━━━━━━━━━━━━━━━━\u001b[0m\u001b[37m\u001b[0m \u001b[1m6s\u001b[0m 28ms/step - accuracy: 0.9467 - loss: 0.1711 - val_accuracy: 0.9840 - val_loss: 0.0482\n",
      "Epoch 14/200\n",
      "\u001b[1m200/200\u001b[0m \u001b[32m━━━━━━━━━━━━━━━━━━━━\u001b[0m\u001b[37m\u001b[0m \u001b[1m6s\u001b[0m 28ms/step - accuracy: 0.9513 - loss: 0.1543 - val_accuracy: 0.9857 - val_loss: 0.0429\n",
      "Epoch 15/200\n",
      "\u001b[1m200/200\u001b[0m \u001b[32m━━━━━━━━━━━━━━━━━━━━\u001b[0m\u001b[37m\u001b[0m \u001b[1m6s\u001b[0m 28ms/step - accuracy: 0.9449 - loss: 0.1691 - val_accuracy: 0.9869 - val_loss: 0.0432\n",
      "Epoch 16/200\n",
      "\u001b[1m200/200\u001b[0m \u001b[32m━━━━━━━━━━━━━━━━━━━━\u001b[0m\u001b[37m\u001b[0m \u001b[1m6s\u001b[0m 28ms/step - accuracy: 0.9548 - loss: 0.1469 - val_accuracy: 0.9855 - val_loss: 0.0406\n",
      "Epoch 17/200\n",
      "\u001b[1m200/200\u001b[0m \u001b[32m━━━━━━━━━━━━━━━━━━━━\u001b[0m\u001b[37m\u001b[0m \u001b[1m6s\u001b[0m 28ms/step - accuracy: 0.9563 - loss: 0.1405 - val_accuracy: 0.9857 - val_loss: 0.0419\n",
      "Epoch 18/200\n",
      "\u001b[1m200/200\u001b[0m \u001b[32m━━━━━━━━━━━━━━━━━━━━\u001b[0m\u001b[37m\u001b[0m \u001b[1m5s\u001b[0m 26ms/step - accuracy: 0.9547 - loss: 0.1438 - val_accuracy: 0.9855 - val_loss: 0.0428\n",
      "Epoch 19/200\n",
      "\u001b[1m200/200\u001b[0m \u001b[32m━━━━━━━━━━━━━━━━━━━━\u001b[0m\u001b[37m\u001b[0m \u001b[1m6s\u001b[0m 28ms/step - accuracy: 0.9663 - loss: 0.1128 - val_accuracy: 0.9874 - val_loss: 0.0374\n",
      "Epoch 20/200\n",
      "\u001b[1m200/200\u001b[0m \u001b[32m━━━━━━━━━━━━━━━━━━━━\u001b[0m\u001b[37m\u001b[0m \u001b[1m6s\u001b[0m 28ms/step - accuracy: 0.9595 - loss: 0.1154 - val_accuracy: 0.9864 - val_loss: 0.0433\n",
      "Epoch 21/200\n",
      "\u001b[1m200/200\u001b[0m \u001b[32m━━━━━━━━━━━━━━━━━━━━\u001b[0m\u001b[37m\u001b[0m \u001b[1m6s\u001b[0m 28ms/step - accuracy: 0.9625 - loss: 0.1269 - val_accuracy: 0.9860 - val_loss: 0.0439\n",
      "Epoch 22/200\n",
      "\u001b[1m200/200\u001b[0m \u001b[32m━━━━━━━━━━━━━━━━━━━━\u001b[0m\u001b[37m\u001b[0m \u001b[1m6s\u001b[0m 28ms/step - accuracy: 0.9638 - loss: 0.1216 - val_accuracy: 0.9888 - val_loss: 0.0364\n",
      "Epoch 23/200\n",
      "\u001b[1m200/200\u001b[0m \u001b[32m━━━━━━━━━━━━━━━━━━━━\u001b[0m\u001b[37m\u001b[0m \u001b[1m6s\u001b[0m 28ms/step - accuracy: 0.9641 - loss: 0.1190 - val_accuracy: 0.9879 - val_loss: 0.0364\n",
      "Epoch 24/200\n",
      "\u001b[1m200/200\u001b[0m \u001b[32m━━━━━━━━━━━━━━━━━━━━\u001b[0m\u001b[37m\u001b[0m \u001b[1m5s\u001b[0m 26ms/step - accuracy: 0.9631 - loss: 0.1149 - val_accuracy: 0.9910 - val_loss: 0.0286\n",
      "Epoch 25/200\n",
      "\u001b[1m200/200\u001b[0m \u001b[32m━━━━━━━━━━━━━━━━━━━━\u001b[0m\u001b[37m\u001b[0m \u001b[1m6s\u001b[0m 28ms/step - accuracy: 0.9681 - loss: 0.1145 - val_accuracy: 0.9895 - val_loss: 0.0310\n",
      "Epoch 26/200\n",
      "\u001b[1m200/200\u001b[0m \u001b[32m━━━━━━━━━━━━━━━━━━━━\u001b[0m\u001b[37m\u001b[0m \u001b[1m6s\u001b[0m 28ms/step - accuracy: 0.9694 - loss: 0.1082 - val_accuracy: 0.9905 - val_loss: 0.0311\n",
      "Epoch 27/200\n",
      "\u001b[1m200/200\u001b[0m \u001b[32m━━━━━━━━━━━━━━━━━━━━\u001b[0m\u001b[37m\u001b[0m \u001b[1m6s\u001b[0m 28ms/step - accuracy: 0.9663 - loss: 0.1042 - val_accuracy: 0.9876 - val_loss: 0.0381\n",
      "Epoch 28/200\n",
      "\u001b[1m200/200\u001b[0m \u001b[32m━━━━━━━━━━━━━━━━━━━━\u001b[0m\u001b[37m\u001b[0m \u001b[1m6s\u001b[0m 28ms/step - accuracy: 0.9714 - loss: 0.0912 - val_accuracy: 0.9890 - val_loss: 0.0325\n",
      "Epoch 29/200\n",
      "\u001b[1m200/200\u001b[0m \u001b[32m━━━━━━━━━━━━━━━━━━━━\u001b[0m\u001b[37m\u001b[0m \u001b[1m6s\u001b[0m 28ms/step - accuracy: 0.9672 - loss: 0.1073 - val_accuracy: 0.9910 - val_loss: 0.0317\n",
      "Epoch 30/200\n",
      "\u001b[1m200/200\u001b[0m \u001b[32m━━━━━━━━━━━━━━━━━━━━\u001b[0m\u001b[37m\u001b[0m \u001b[1m5s\u001b[0m 26ms/step - accuracy: 0.9701 - loss: 0.0928 - val_accuracy: 0.9890 - val_loss: 0.0318\n",
      "Epoch 31/200\n",
      "\u001b[1m200/200\u001b[0m \u001b[32m━━━━━━━━━━━━━━━━━━━━\u001b[0m\u001b[37m\u001b[0m \u001b[1m6s\u001b[0m 28ms/step - accuracy: 0.9714 - loss: 0.0921 - val_accuracy: 0.9898 - val_loss: 0.0312\n",
      "Epoch 32/200\n",
      "\u001b[1m200/200\u001b[0m \u001b[32m━━━━━━━━━━━━━━━━━━━━\u001b[0m\u001b[37m\u001b[0m \u001b[1m6s\u001b[0m 28ms/step - accuracy: 0.9703 - loss: 0.0985 - val_accuracy: 0.9905 - val_loss: 0.0327\n",
      "Epoch 33/200\n",
      "\u001b[1m200/200\u001b[0m \u001b[32m━━━━━━━━━━━━━━━━━━━━\u001b[0m\u001b[37m\u001b[0m \u001b[1m6s\u001b[0m 28ms/step - accuracy: 0.9755 - loss: 0.0908 - val_accuracy: 0.9871 - val_loss: 0.0383\n",
      "Epoch 34/200\n",
      "\u001b[1m200/200\u001b[0m \u001b[32m━━━━━━━━━━━━━━━━━━━━\u001b[0m\u001b[37m\u001b[0m \u001b[1m6s\u001b[0m 29ms/step - accuracy: 0.9727 - loss: 0.0868 - val_accuracy: 0.9886 - val_loss: 0.0366\n",
      "Epoch 35/200\n",
      "\u001b[1m200/200\u001b[0m \u001b[32m━━━━━━━━━━━━━━━━━━━━\u001b[0m\u001b[37m\u001b[0m \u001b[1m6s\u001b[0m 30ms/step - accuracy: 0.9728 - loss: 0.0873 - val_accuracy: 0.9917 - val_loss: 0.0290\n",
      "Epoch 36/200\n",
      "\u001b[1m200/200\u001b[0m \u001b[32m━━━━━━━━━━━━━━━━━━━━\u001b[0m\u001b[37m\u001b[0m \u001b[1m6s\u001b[0m 28ms/step - accuracy: 0.9752 - loss: 0.0781 - val_accuracy: 0.9862 - val_loss: 0.0402\n",
      "Epoch 37/200\n",
      "\u001b[1m200/200\u001b[0m \u001b[32m━━━━━━━━━━━━━━━━━━━━\u001b[0m\u001b[37m\u001b[0m \u001b[1m6s\u001b[0m 32ms/step - accuracy: 0.9787 - loss: 0.0722 - val_accuracy: 0.9883 - val_loss: 0.0348\n",
      "Epoch 38/200\n",
      "\u001b[1m200/200\u001b[0m \u001b[32m━━━━━━━━━━━━━━━━━━━━\u001b[0m\u001b[37m\u001b[0m \u001b[1m6s\u001b[0m 30ms/step - accuracy: 0.9748 - loss: 0.0818 - val_accuracy: 0.9910 - val_loss: 0.0265\n",
      "Epoch 39/200\n",
      "\u001b[1m200/200\u001b[0m \u001b[32m━━━━━━━━━━━━━━━━━━━━\u001b[0m\u001b[37m\u001b[0m \u001b[1m6s\u001b[0m 30ms/step - accuracy: 0.9744 - loss: 0.0802 - val_accuracy: 0.9905 - val_loss: 0.0363\n",
      "Epoch 40/200\n",
      "\u001b[1m200/200\u001b[0m \u001b[32m━━━━━━━━━━━━━━━━━━━━\u001b[0m\u001b[37m\u001b[0m \u001b[1m6s\u001b[0m 30ms/step - accuracy: 0.9762 - loss: 0.0831 - val_accuracy: 0.9917 - val_loss: 0.0280\n",
      "Epoch 41/200\n",
      "\u001b[1m200/200\u001b[0m \u001b[32m━━━━━━━━━━━━━━━━━━━━\u001b[0m\u001b[37m\u001b[0m \u001b[1m6s\u001b[0m 29ms/step - accuracy: 0.9744 - loss: 0.0804 - val_accuracy: 0.9907 - val_loss: 0.0262\n",
      "Epoch 42/200\n",
      "\u001b[1m200/200\u001b[0m \u001b[32m━━━━━━━━━━━━━━━━━━━━\u001b[0m\u001b[37m\u001b[0m \u001b[1m6s\u001b[0m 28ms/step - accuracy: 0.9761 - loss: 0.0810 - val_accuracy: 0.9929 - val_loss: 0.0235\n",
      "Epoch 43/200\n",
      "\u001b[1m200/200\u001b[0m \u001b[32m━━━━━━━━━━━━━━━━━━━━\u001b[0m\u001b[37m\u001b[0m \u001b[1m6s\u001b[0m 29ms/step - accuracy: 0.9767 - loss: 0.0785 - val_accuracy: 0.9945 - val_loss: 0.0197\n",
      "Epoch 44/200\n",
      "\u001b[1m200/200\u001b[0m \u001b[32m━━━━━━━━━━━━━━━━━━━━\u001b[0m\u001b[37m\u001b[0m \u001b[1m6s\u001b[0m 30ms/step - accuracy: 0.9792 - loss: 0.0786 - val_accuracy: 0.9940 - val_loss: 0.0213\n",
      "Epoch 45/200\n",
      "\u001b[1m200/200\u001b[0m \u001b[32m━━━━━━━━━━━━━━━━━━━━\u001b[0m\u001b[37m\u001b[0m \u001b[1m6s\u001b[0m 30ms/step - accuracy: 0.9781 - loss: 0.0794 - val_accuracy: 0.9917 - val_loss: 0.0251\n",
      "Epoch 46/200\n",
      "\u001b[1m200/200\u001b[0m \u001b[32m━━━━━━━━━━━━━━━━━━━━\u001b[0m\u001b[37m\u001b[0m \u001b[1m6s\u001b[0m 31ms/step - accuracy: 0.9770 - loss: 0.0728 - val_accuracy: 0.9921 - val_loss: 0.0261\n",
      "Epoch 47/200\n",
      "\u001b[1m200/200\u001b[0m \u001b[32m━━━━━━━━━━━━━━━━━━━━\u001b[0m\u001b[37m\u001b[0m \u001b[1m6s\u001b[0m 30ms/step - accuracy: 0.9784 - loss: 0.0722 - val_accuracy: 0.9931 - val_loss: 0.0250\n",
      "Epoch 48/200\n",
      "\u001b[1m200/200\u001b[0m \u001b[32m━━━━━━━━━━━━━━━━━━━━\u001b[0m\u001b[37m\u001b[0m \u001b[1m6s\u001b[0m 28ms/step - accuracy: 0.9785 - loss: 0.0723 - val_accuracy: 0.9940 - val_loss: 0.0194\n",
      "Epoch 49/200\n",
      "\u001b[1m200/200\u001b[0m \u001b[32m━━━━━━━━━━━━━━━━━━━━\u001b[0m\u001b[37m\u001b[0m \u001b[1m6s\u001b[0m 30ms/step - accuracy: 0.9805 - loss: 0.0687 - val_accuracy: 0.9933 - val_loss: 0.0192\n",
      "Epoch 50/200\n",
      "\u001b[1m200/200\u001b[0m \u001b[32m━━━━━━━━━━━━━━━━━━━━\u001b[0m\u001b[37m\u001b[0m \u001b[1m6s\u001b[0m 30ms/step - accuracy: 0.9786 - loss: 0.0717 - val_accuracy: 0.9917 - val_loss: 0.0258\n",
      "Epoch 51/200\n",
      "\u001b[1m200/200\u001b[0m \u001b[32m━━━━━━━━━━━━━━━━━━━━\u001b[0m\u001b[37m\u001b[0m \u001b[1m6s\u001b[0m 30ms/step - accuracy: 0.9766 - loss: 0.0760 - val_accuracy: 0.9926 - val_loss: 0.0225\n",
      "Epoch 52/200\n",
      "\u001b[1m200/200\u001b[0m \u001b[32m━━━━━━━━━━━━━━━━━━━━\u001b[0m\u001b[37m\u001b[0m \u001b[1m6s\u001b[0m 32ms/step - accuracy: 0.9773 - loss: 0.0691 - val_accuracy: 0.9910 - val_loss: 0.0311\n",
      "Epoch 53/200\n",
      "\u001b[1m200/200\u001b[0m \u001b[32m━━━━━━━━━━━━━━━━━━━━\u001b[0m\u001b[37m\u001b[0m \u001b[1m7s\u001b[0m 37ms/step - accuracy: 0.9791 - loss: 0.0709 - val_accuracy: 0.9933 - val_loss: 0.0225\n",
      "Epoch 54/200\n",
      "\u001b[1m200/200\u001b[0m \u001b[32m━━━━━━━━━━━━━━━━━━━━\u001b[0m\u001b[37m\u001b[0m \u001b[1m8s\u001b[0m 40ms/step - accuracy: 0.9763 - loss: 0.0726 - val_accuracy: 0.9943 - val_loss: 0.0223\n",
      "Epoch 55/200\n",
      "\u001b[1m200/200\u001b[0m \u001b[32m━━━━━━━━━━━━━━━━━━━━\u001b[0m\u001b[37m\u001b[0m \u001b[1m8s\u001b[0m 41ms/step - accuracy: 0.9828 - loss: 0.0565 - val_accuracy: 0.9938 - val_loss: 0.0215\n",
      "Epoch 56/200\n",
      "\u001b[1m200/200\u001b[0m \u001b[32m━━━━━━━━━━━━━━━━━━━━\u001b[0m\u001b[37m\u001b[0m \u001b[1m9s\u001b[0m 47ms/step - accuracy: 0.9803 - loss: 0.0615 - val_accuracy: 0.9940 - val_loss: 0.0202\n",
      "Epoch 57/200\n",
      "\u001b[1m200/200\u001b[0m \u001b[32m━━━━━━━━━━━━━━━━━━━━\u001b[0m\u001b[37m\u001b[0m \u001b[1m9s\u001b[0m 47ms/step - accuracy: 0.9796 - loss: 0.0613 - val_accuracy: 0.9931 - val_loss: 0.0212\n",
      "Epoch 58/200\n",
      "\u001b[1m200/200\u001b[0m \u001b[32m━━━━━━━━━━━━━━━━━━━━\u001b[0m\u001b[37m\u001b[0m \u001b[1m8s\u001b[0m 42ms/step - accuracy: 0.9834 - loss: 0.0588 - val_accuracy: 0.9936 - val_loss: 0.0211\n",
      "Epoch 59/200\n",
      "\u001b[1m200/200\u001b[0m \u001b[32m━━━━━━━━━━━━━━━━━━━━\u001b[0m\u001b[37m\u001b[0m \u001b[1m8s\u001b[0m 42ms/step - accuracy: 0.9803 - loss: 0.0631 - val_accuracy: 0.9924 - val_loss: 0.0243\n",
      "Epoch 60/200\n",
      "\u001b[1m200/200\u001b[0m \u001b[32m━━━━━━━━━━━━━━━━━━━━\u001b[0m\u001b[37m\u001b[0m \u001b[1m8s\u001b[0m 40ms/step - accuracy: 0.9816 - loss: 0.0551 - val_accuracy: 0.9938 - val_loss: 0.0195\n",
      "Epoch 61/200\n",
      "\u001b[1m200/200\u001b[0m \u001b[32m━━━━━━━━━━━━━━━━━━━━\u001b[0m\u001b[37m\u001b[0m \u001b[1m8s\u001b[0m 42ms/step - accuracy: 0.9820 - loss: 0.0586 - val_accuracy: 0.9924 - val_loss: 0.0223\n",
      "Epoch 62/200\n",
      "\u001b[1m200/200\u001b[0m \u001b[32m━━━━━━━━━━━━━━━━━━━━\u001b[0m\u001b[37m\u001b[0m \u001b[1m9s\u001b[0m 45ms/step - accuracy: 0.9823 - loss: 0.0609 - val_accuracy: 0.9921 - val_loss: 0.0259\n",
      "Epoch 63/200\n",
      "\u001b[1m200/200\u001b[0m \u001b[32m━━━━━━━━━━━━━━━━━━━━\u001b[0m\u001b[37m\u001b[0m \u001b[1m9s\u001b[0m 43ms/step - accuracy: 0.9823 - loss: 0.0593 - val_accuracy: 0.9938 - val_loss: 0.0205\n",
      "Epoch 64/200\n",
      "\u001b[1m200/200\u001b[0m \u001b[32m━━━━━━━━━━━━━━━━━━━━\u001b[0m\u001b[37m\u001b[0m \u001b[1m9s\u001b[0m 45ms/step - accuracy: 0.9826 - loss: 0.0529 - val_accuracy: 0.9919 - val_loss: 0.0264\n",
      "Epoch 65/200\n",
      "\u001b[1m200/200\u001b[0m \u001b[32m━━━━━━━━━━━━━━━━━━━━\u001b[0m\u001b[37m\u001b[0m \u001b[1m9s\u001b[0m 45ms/step - accuracy: 0.9819 - loss: 0.0591 - val_accuracy: 0.9929 - val_loss: 0.0226\n",
      "Epoch 66/200\n",
      "\u001b[1m200/200\u001b[0m \u001b[32m━━━━━━━━━━━━━━━━━━━━\u001b[0m\u001b[37m\u001b[0m \u001b[1m9s\u001b[0m 43ms/step - accuracy: 0.9799 - loss: 0.0641 - val_accuracy: 0.9931 - val_loss: 0.0209\n",
      "Epoch 67/200\n",
      "\u001b[1m200/200\u001b[0m \u001b[32m━━━━━━━━━━━━━━━━━━━━\u001b[0m\u001b[37m\u001b[0m \u001b[1m8s\u001b[0m 39ms/step - accuracy: 0.9797 - loss: 0.0649 - val_accuracy: 0.9943 - val_loss: 0.0185\n",
      "Epoch 68/200\n",
      "\u001b[1m200/200\u001b[0m \u001b[32m━━━━━━━━━━━━━━━━━━━━\u001b[0m\u001b[37m\u001b[0m \u001b[1m9s\u001b[0m 45ms/step - accuracy: 0.9836 - loss: 0.0522 - val_accuracy: 0.9945 - val_loss: 0.0186\n",
      "Epoch 69/200\n",
      "\u001b[1m200/200\u001b[0m \u001b[32m━━━━━━━━━━━━━━━━━━━━\u001b[0m\u001b[37m\u001b[0m \u001b[1m9s\u001b[0m 45ms/step - accuracy: 0.9831 - loss: 0.0509 - val_accuracy: 0.9912 - val_loss: 0.0258\n",
      "Epoch 70/200\n",
      "\u001b[1m200/200\u001b[0m \u001b[32m━━━━━━━━━━━━━━━━━━━━\u001b[0m\u001b[37m\u001b[0m \u001b[1m9s\u001b[0m 45ms/step - accuracy: 0.9853 - loss: 0.0472 - val_accuracy: 0.9931 - val_loss: 0.0217\n",
      "Epoch 71/200\n",
      "\u001b[1m200/200\u001b[0m \u001b[32m━━━━━━━━━━━━━━━━━━━━\u001b[0m\u001b[37m\u001b[0m \u001b[1m9s\u001b[0m 44ms/step - accuracy: 0.9841 - loss: 0.0545 - val_accuracy: 0.9919 - val_loss: 0.0278\n",
      "Epoch 72/200\n",
      "\u001b[1m200/200\u001b[0m \u001b[32m━━━━━━━━━━━━━━━━━━━━\u001b[0m\u001b[37m\u001b[0m \u001b[1m6s\u001b[0m 29ms/step - accuracy: 0.9852 - loss: 0.0506 - val_accuracy: 0.9933 - val_loss: 0.0205\n",
      "Epoch 73/200\n",
      "\u001b[1m200/200\u001b[0m \u001b[32m━━━━━━━━━━━━━━━━━━━━\u001b[0m\u001b[37m\u001b[0m \u001b[1m6s\u001b[0m 29ms/step - accuracy: 0.9833 - loss: 0.0606 - val_accuracy: 0.9945 - val_loss: 0.0165\n",
      "Epoch 74/200\n",
      "\u001b[1m200/200\u001b[0m \u001b[32m━━━━━━━━━━━━━━━━━━━━\u001b[0m\u001b[37m\u001b[0m \u001b[1m6s\u001b[0m 29ms/step - accuracy: 0.9811 - loss: 0.0657 - val_accuracy: 0.9940 - val_loss: 0.0177\n",
      "Epoch 75/200\n",
      "\u001b[1m200/200\u001b[0m \u001b[32m━━━━━━━━━━━━━━━━━━━━\u001b[0m\u001b[37m\u001b[0m \u001b[1m6s\u001b[0m 29ms/step - accuracy: 0.9852 - loss: 0.0518 - val_accuracy: 0.9948 - val_loss: 0.0182\n",
      "Epoch 76/200\n",
      "\u001b[1m200/200\u001b[0m \u001b[32m━━━━━━━━━━━━━━━━━━━━\u001b[0m\u001b[37m\u001b[0m \u001b[1m6s\u001b[0m 28ms/step - accuracy: 0.9827 - loss: 0.0602 - val_accuracy: 0.9948 - val_loss: 0.0182\n",
      "Epoch 77/200\n",
      "\u001b[1m200/200\u001b[0m \u001b[32m━━━━━━━━━━━━━━━━━━━━\u001b[0m\u001b[37m\u001b[0m \u001b[1m6s\u001b[0m 28ms/step - accuracy: 0.9821 - loss: 0.0599 - val_accuracy: 0.9912 - val_loss: 0.0253\n",
      "Epoch 78/200\n",
      "\u001b[1m200/200\u001b[0m \u001b[32m━━━━━━━━━━━━━━━━━━━━\u001b[0m\u001b[37m\u001b[0m \u001b[1m5s\u001b[0m 26ms/step - accuracy: 0.9809 - loss: 0.0595 - val_accuracy: 0.9933 - val_loss: 0.0219\n",
      "Epoch 79/200\n",
      "\u001b[1m200/200\u001b[0m \u001b[32m━━━━━━━━━━━━━━━━━━━━\u001b[0m\u001b[37m\u001b[0m \u001b[1m6s\u001b[0m 28ms/step - accuracy: 0.9875 - loss: 0.0460 - val_accuracy: 0.9950 - val_loss: 0.0205\n",
      "Epoch 80/200\n",
      "\u001b[1m200/200\u001b[0m \u001b[32m━━━━━━━━━━━━━━━━━━━━\u001b[0m\u001b[37m\u001b[0m \u001b[1m6s\u001b[0m 28ms/step - accuracy: 0.9839 - loss: 0.0548 - val_accuracy: 0.9907 - val_loss: 0.0287\n",
      "Epoch 81/200\n",
      "\u001b[1m200/200\u001b[0m \u001b[32m━━━━━━━━━━━━━━━━━━━━\u001b[0m\u001b[37m\u001b[0m \u001b[1m6s\u001b[0m 28ms/step - accuracy: 0.9853 - loss: 0.0519 - val_accuracy: 0.9929 - val_loss: 0.0268\n",
      "Epoch 82/200\n",
      "\u001b[1m200/200\u001b[0m \u001b[32m━━━━━━━━━━━━━━━━━━━━\u001b[0m\u001b[37m\u001b[0m \u001b[1m6s\u001b[0m 28ms/step - accuracy: 0.9867 - loss: 0.0491 - val_accuracy: 0.9943 - val_loss: 0.0218\n",
      "Epoch 83/200\n",
      "\u001b[1m200/200\u001b[0m \u001b[32m━━━━━━━━━━━━━━━━━━━━\u001b[0m\u001b[37m\u001b[0m \u001b[1m6s\u001b[0m 28ms/step - accuracy: 0.9828 - loss: 0.0525 - val_accuracy: 0.9933 - val_loss: 0.0253\n",
      "Epoch 84/200\n",
      "\u001b[1m200/200\u001b[0m \u001b[32m━━━━━━━━━━━━━━━━━━━━\u001b[0m\u001b[37m\u001b[0m \u001b[1m5s\u001b[0m 26ms/step - accuracy: 0.9816 - loss: 0.0603 - val_accuracy: 0.9921 - val_loss: 0.0259\n",
      "Epoch 85/200\n",
      "\u001b[1m200/200\u001b[0m \u001b[32m━━━━━━━━━━━━━━━━━━━━\u001b[0m\u001b[37m\u001b[0m \u001b[1m6s\u001b[0m 29ms/step - accuracy: 0.9836 - loss: 0.0499 - val_accuracy: 0.9945 - val_loss: 0.0216\n",
      "Epoch 86/200\n",
      "\u001b[1m200/200\u001b[0m \u001b[32m━━━━━━━━━━━━━━━━━━━━\u001b[0m\u001b[37m\u001b[0m \u001b[1m21s\u001b[0m 103ms/step - accuracy: 0.9848 - loss: 0.0454 - val_accuracy: 0.9948 - val_loss: 0.0182\n",
      "Epoch 87/200\n",
      "\u001b[1m200/200\u001b[0m \u001b[32m━━━━━━━━━━━━━━━━━━━━\u001b[0m\u001b[37m\u001b[0m \u001b[1m11s\u001b[0m 52ms/step - accuracy: 0.9842 - loss: 0.0496 - val_accuracy: 0.9936 - val_loss: 0.0204\n",
      "Epoch 88/200\n",
      "\u001b[1m200/200\u001b[0m \u001b[32m━━━━━━━━━━━━━━━━━━━━\u001b[0m\u001b[37m\u001b[0m \u001b[1m6s\u001b[0m 29ms/step - accuracy: 0.9873 - loss: 0.0410 - val_accuracy: 0.9921 - val_loss: 0.0240\n",
      "Epoch 89/200\n",
      "\u001b[1m200/200\u001b[0m \u001b[32m━━━━━━━━━━━━━━━━━━━━\u001b[0m\u001b[37m\u001b[0m \u001b[1m10s\u001b[0m 49ms/step - accuracy: 0.9859 - loss: 0.0450 - val_accuracy: 0.9914 - val_loss: 0.0267\n",
      "Epoch 90/200\n",
      "\u001b[1m200/200\u001b[0m \u001b[32m━━━━━━━━━━━━━━━━━━━━\u001b[0m\u001b[37m\u001b[0m \u001b[1m7s\u001b[0m 33ms/step - accuracy: 0.9844 - loss: 0.0540 - val_accuracy: 0.9957 - val_loss: 0.0169\n",
      "Epoch 91/200\n",
      "\u001b[1m200/200\u001b[0m \u001b[32m━━━━━━━━━━━━━━━━━━━━\u001b[0m\u001b[37m\u001b[0m \u001b[1m6s\u001b[0m 28ms/step - accuracy: 0.9886 - loss: 0.0459 - val_accuracy: 0.9948 - val_loss: 0.0144\n",
      "Epoch 92/200\n",
      "\u001b[1m200/200\u001b[0m \u001b[32m━━━━━━━━━━━━━━━━━━━━\u001b[0m\u001b[37m\u001b[0m \u001b[1m12s\u001b[0m 61ms/step - accuracy: 0.9853 - loss: 0.0469 - val_accuracy: 0.9917 - val_loss: 0.0254\n",
      "Epoch 93/200\n",
      "\u001b[1m200/200\u001b[0m \u001b[32m━━━━━━━━━━━━━━━━━━━━\u001b[0m\u001b[37m\u001b[0m \u001b[1m18s\u001b[0m 88ms/step - accuracy: 0.9867 - loss: 0.0453 - val_accuracy: 0.9945 - val_loss: 0.0166\n",
      "Epoch 94/200\n",
      "\u001b[1m200/200\u001b[0m \u001b[32m━━━━━━━━━━━━━━━━━━━━\u001b[0m\u001b[37m\u001b[0m \u001b[1m6s\u001b[0m 28ms/step - accuracy: 0.9866 - loss: 0.0468 - val_accuracy: 0.9945 - val_loss: 0.0195\n",
      "Epoch 95/200\n",
      "\u001b[1m200/200\u001b[0m \u001b[32m━━━━━━━━━━━━━━━━━━━━\u001b[0m\u001b[37m\u001b[0m \u001b[1m6s\u001b[0m 28ms/step - accuracy: 0.9862 - loss: 0.0447 - val_accuracy: 0.9929 - val_loss: 0.0230\n",
      "Epoch 96/200\n",
      "\u001b[1m200/200\u001b[0m \u001b[32m━━━━━━━━━━━━━━━━━━━━\u001b[0m\u001b[37m\u001b[0m \u001b[1m5s\u001b[0m 26ms/step - accuracy: 0.9868 - loss: 0.0425 - val_accuracy: 0.9940 - val_loss: 0.0208\n",
      "Epoch 97/200\n",
      "\u001b[1m200/200\u001b[0m \u001b[32m━━━━━━━━━━━━━━━━━━━━\u001b[0m\u001b[37m\u001b[0m \u001b[1m6s\u001b[0m 28ms/step - accuracy: 0.9878 - loss: 0.0436 - val_accuracy: 0.9926 - val_loss: 0.0221\n",
      "Epoch 98/200\n",
      "\u001b[1m200/200\u001b[0m \u001b[32m━━━━━━━━━━━━━━━━━━━━\u001b[0m\u001b[37m\u001b[0m \u001b[1m6s\u001b[0m 28ms/step - accuracy: 0.9882 - loss: 0.0425 - val_accuracy: 0.9936 - val_loss: 0.0234\n",
      "Epoch 99/200\n",
      "\u001b[1m200/200\u001b[0m \u001b[32m━━━━━━━━━━━━━━━━━━━━\u001b[0m\u001b[37m\u001b[0m \u001b[1m6s\u001b[0m 28ms/step - accuracy: 0.9853 - loss: 0.0444 - val_accuracy: 0.9940 - val_loss: 0.0200\n",
      "Epoch 100/200\n",
      "\u001b[1m200/200\u001b[0m \u001b[32m━━━━━━━━━━━━━━━━━━━━\u001b[0m\u001b[37m\u001b[0m \u001b[1m6s\u001b[0m 28ms/step - accuracy: 0.9852 - loss: 0.0463 - val_accuracy: 0.9936 - val_loss: 0.0221\n",
      "Epoch 101/200\n",
      "\u001b[1m200/200\u001b[0m \u001b[32m━━━━━━━━━━━━━━━━━━━━\u001b[0m\u001b[37m\u001b[0m \u001b[1m6s\u001b[0m 28ms/step - accuracy: 0.9900 - loss: 0.0394 - val_accuracy: 0.9950 - val_loss: 0.0171\n",
      "Epoch 102/200\n",
      "\u001b[1m200/200\u001b[0m \u001b[32m━━━━━━━━━━━━━━━━━━━━\u001b[0m\u001b[37m\u001b[0m \u001b[1m5s\u001b[0m 26ms/step - accuracy: 0.9849 - loss: 0.0482 - val_accuracy: 0.9950 - val_loss: 0.0158\n",
      "Epoch 103/200\n",
      "\u001b[1m200/200\u001b[0m \u001b[32m━━━━━━━━━━━━━━━━━━━━\u001b[0m\u001b[37m\u001b[0m \u001b[1m6s\u001b[0m 28ms/step - accuracy: 0.9886 - loss: 0.0387 - val_accuracy: 0.9940 - val_loss: 0.0215\n",
      "Epoch 104/200\n",
      "\u001b[1m200/200\u001b[0m \u001b[32m━━━━━━━━━━━━━━━━━━━━\u001b[0m\u001b[37m\u001b[0m \u001b[1m6s\u001b[0m 28ms/step - accuracy: 0.9856 - loss: 0.0472 - val_accuracy: 0.9950 - val_loss: 0.0169\n",
      "Epoch 105/200\n",
      "\u001b[1m200/200\u001b[0m \u001b[32m━━━━━━━━━━━━━━━━━━━━\u001b[0m\u001b[37m\u001b[0m \u001b[1m6s\u001b[0m 28ms/step - accuracy: 0.9866 - loss: 0.0465 - val_accuracy: 0.9940 - val_loss: 0.0203\n",
      "Epoch 106/200\n",
      "\u001b[1m200/200\u001b[0m \u001b[32m━━━━━━━━━━━━━━━━━━━━\u001b[0m\u001b[37m\u001b[0m \u001b[1m6s\u001b[0m 28ms/step - accuracy: 0.9868 - loss: 0.0460 - val_accuracy: 0.9940 - val_loss: 0.0218\n",
      "Epoch 107/200\n",
      "\u001b[1m200/200\u001b[0m \u001b[32m━━━━━━━━━━━━━━━━━━━━\u001b[0m\u001b[37m\u001b[0m \u001b[1m6s\u001b[0m 28ms/step - accuracy: 0.9867 - loss: 0.0423 - val_accuracy: 0.9962 - val_loss: 0.0130\n",
      "Epoch 108/200\n",
      "\u001b[1m200/200\u001b[0m \u001b[32m━━━━━━━━━━━━━━━━━━━━\u001b[0m\u001b[37m\u001b[0m \u001b[1m5s\u001b[0m 26ms/step - accuracy: 0.9890 - loss: 0.0356 - val_accuracy: 0.9950 - val_loss: 0.0180\n",
      "Epoch 109/200\n",
      "\u001b[1m200/200\u001b[0m \u001b[32m━━━━━━━━━━━━━━━━━━━━\u001b[0m\u001b[37m\u001b[0m \u001b[1m6s\u001b[0m 28ms/step - accuracy: 0.9844 - loss: 0.0528 - val_accuracy: 0.9950 - val_loss: 0.0149\n",
      "Epoch 110/200\n",
      "\u001b[1m200/200\u001b[0m \u001b[32m━━━━━━━━━━━━━━━━━━━━\u001b[0m\u001b[37m\u001b[0m \u001b[1m6s\u001b[0m 28ms/step - accuracy: 0.9864 - loss: 0.0467 - val_accuracy: 0.9962 - val_loss: 0.0155\n",
      "Epoch 111/200\n",
      "\u001b[1m200/200\u001b[0m \u001b[32m━━━━━━━━━━━━━━━━━━━━\u001b[0m\u001b[37m\u001b[0m \u001b[1m6s\u001b[0m 31ms/step - accuracy: 0.9870 - loss: 0.0468 - val_accuracy: 0.9945 - val_loss: 0.0213\n",
      "Epoch 112/200\n",
      "\u001b[1m200/200\u001b[0m \u001b[32m━━━━━━━━━━━━━━━━━━━━\u001b[0m\u001b[37m\u001b[0m \u001b[1m6s\u001b[0m 31ms/step - accuracy: 0.9898 - loss: 0.0386 - val_accuracy: 0.9940 - val_loss: 0.0214\n",
      "Epoch 113/200\n",
      "\u001b[1m200/200\u001b[0m \u001b[32m━━━━━━━━━━━━━━━━━━━━\u001b[0m\u001b[37m\u001b[0m \u001b[1m6s\u001b[0m 30ms/step - accuracy: 0.9862 - loss: 0.0421 - val_accuracy: 0.9936 - val_loss: 0.0206\n",
      "Epoch 114/200\n",
      "\u001b[1m200/200\u001b[0m \u001b[32m━━━━━━━━━━━━━━━━━━━━\u001b[0m\u001b[37m\u001b[0m \u001b[1m6s\u001b[0m 28ms/step - accuracy: 0.9878 - loss: 0.0392 - val_accuracy: 0.9945 - val_loss: 0.0181\n",
      "Epoch 115/200\n",
      "\u001b[1m200/200\u001b[0m \u001b[32m━━━━━━━━━━━━━━━━━━━━\u001b[0m\u001b[37m\u001b[0m \u001b[1m6s\u001b[0m 30ms/step - accuracy: 0.9870 - loss: 0.0462 - val_accuracy: 0.9943 - val_loss: 0.0180\n",
      "Epoch 116/200\n",
      "\u001b[1m200/200\u001b[0m \u001b[32m━━━━━━━━━━━━━━━━━━━━\u001b[0m\u001b[37m\u001b[0m \u001b[1m6s\u001b[0m 30ms/step - accuracy: 0.9862 - loss: 0.0480 - val_accuracy: 0.9945 - val_loss: 0.0213\n",
      "Epoch 117/200\n",
      "\u001b[1m200/200\u001b[0m \u001b[32m━━━━━━━━━━━━━━━━━━━━\u001b[0m\u001b[37m\u001b[0m \u001b[1m6s\u001b[0m 32ms/step - accuracy: 0.9881 - loss: 0.0376 - val_accuracy: 0.9955 - val_loss: 0.0180\n",
      "Epoch 118/200\n",
      "\u001b[1m200/200\u001b[0m \u001b[32m━━━━━━━━━━━━━━━━━━━━\u001b[0m\u001b[37m\u001b[0m \u001b[1m6s\u001b[0m 30ms/step - accuracy: 0.9875 - loss: 0.0381 - val_accuracy: 0.9952 - val_loss: 0.0179\n",
      "Epoch 119/200\n",
      "\u001b[1m200/200\u001b[0m \u001b[32m━━━━━━━━━━━━━━━━━━━━\u001b[0m\u001b[37m\u001b[0m \u001b[1m6s\u001b[0m 30ms/step - accuracy: 0.9886 - loss: 0.0392 - val_accuracy: 0.9948 - val_loss: 0.0180\n",
      "Epoch 120/200\n",
      "\u001b[1m200/200\u001b[0m \u001b[32m━━━━━━━━━━━━━━━━━━━━\u001b[0m\u001b[37m\u001b[0m \u001b[1m6s\u001b[0m 28ms/step - accuracy: 0.9882 - loss: 0.0376 - val_accuracy: 0.9950 - val_loss: 0.0163\n",
      "Epoch 121/200\n",
      "\u001b[1m200/200\u001b[0m \u001b[32m━━━━━━━━━━━━━━━━━━━━\u001b[0m\u001b[37m\u001b[0m \u001b[1m6s\u001b[0m 30ms/step - accuracy: 0.9869 - loss: 0.0382 - val_accuracy: 0.9960 - val_loss: 0.0147\n",
      "Epoch 122/200\n",
      "\u001b[1m200/200\u001b[0m \u001b[32m━━━━━━━━━━━━━━━━━━━━\u001b[0m\u001b[37m\u001b[0m \u001b[1m6s\u001b[0m 30ms/step - accuracy: 0.9906 - loss: 0.0337 - val_accuracy: 0.9948 - val_loss: 0.0174\n",
      "Epoch 123/200\n",
      "\u001b[1m200/200\u001b[0m \u001b[32m━━━━━━━━━━━━━━━━━━━━\u001b[0m\u001b[37m\u001b[0m \u001b[1m6s\u001b[0m 31ms/step - accuracy: 0.9884 - loss: 0.0371 - val_accuracy: 0.9933 - val_loss: 0.0201\n",
      "Epoch 124/200\n",
      "\u001b[1m200/200\u001b[0m \u001b[32m━━━━━━━━━━━━━━━━━━━━\u001b[0m\u001b[37m\u001b[0m \u001b[1m6s\u001b[0m 31ms/step - accuracy: 0.9867 - loss: 0.0405 - val_accuracy: 0.9940 - val_loss: 0.0177\n",
      "Epoch 125/200\n",
      "\u001b[1m200/200\u001b[0m \u001b[32m━━━━━━━━━━━━━━━━━━━━\u001b[0m\u001b[37m\u001b[0m \u001b[1m6s\u001b[0m 30ms/step - accuracy: 0.9883 - loss: 0.0378 - val_accuracy: 0.9957 - val_loss: 0.0191\n",
      "Epoch 126/200\n",
      "\u001b[1m200/200\u001b[0m \u001b[32m━━━━━━━━━━━━━━━━━━━━\u001b[0m\u001b[37m\u001b[0m \u001b[1m6s\u001b[0m 29ms/step - accuracy: 0.9892 - loss: 0.0298 - val_accuracy: 0.9957 - val_loss: 0.0189\n",
      "Epoch 127/200\n",
      "\u001b[1m200/200\u001b[0m \u001b[32m━━━━━━━━━━━━━━━━━━━━\u001b[0m\u001b[37m\u001b[0m \u001b[1m6s\u001b[0m 31ms/step - accuracy: 0.9861 - loss: 0.0449 - val_accuracy: 0.9960 - val_loss: 0.0158\n",
      "Epoch 128/200\n",
      "\u001b[1m200/200\u001b[0m \u001b[32m━━━━━━━━━━━━━━━━━━━━\u001b[0m\u001b[37m\u001b[0m \u001b[1m6s\u001b[0m 31ms/step - accuracy: 0.9881 - loss: 0.0373 - val_accuracy: 0.9957 - val_loss: 0.0136\n",
      "Epoch 129/200\n",
      "\u001b[1m200/200\u001b[0m \u001b[32m━━━━━━━━━━━━━━━━━━━━\u001b[0m\u001b[37m\u001b[0m \u001b[1m6s\u001b[0m 30ms/step - accuracy: 0.9895 - loss: 0.0370 - val_accuracy: 0.9943 - val_loss: 0.0182\n",
      "Epoch 130/200\n",
      "\u001b[1m200/200\u001b[0m \u001b[32m━━━━━━━━━━━━━━━━━━━━\u001b[0m\u001b[37m\u001b[0m \u001b[1m6s\u001b[0m 29ms/step - accuracy: 0.9872 - loss: 0.0403 - val_accuracy: 0.9964 - val_loss: 0.0148\n",
      "Epoch 131/200\n",
      "\u001b[1m200/200\u001b[0m \u001b[32m━━━━━━━━━━━━━━━━━━━━\u001b[0m\u001b[37m\u001b[0m \u001b[1m6s\u001b[0m 30ms/step - accuracy: 0.9912 - loss: 0.0349 - val_accuracy: 0.9957 - val_loss: 0.0170\n",
      "Epoch 132/200\n",
      "\u001b[1m200/200\u001b[0m \u001b[32m━━━━━━━━━━━━━━━━━━━━\u001b[0m\u001b[37m\u001b[0m \u001b[1m6s\u001b[0m 28ms/step - accuracy: 0.9894 - loss: 0.0331 - val_accuracy: 0.9950 - val_loss: 0.0185\n",
      "Epoch 133/200\n",
      "\u001b[1m200/200\u001b[0m \u001b[32m━━━━━━━━━━━━━━━━━━━━\u001b[0m\u001b[37m\u001b[0m \u001b[1m6s\u001b[0m 31ms/step - accuracy: 0.9881 - loss: 0.0384 - val_accuracy: 0.9933 - val_loss: 0.0197\n",
      "Epoch 134/200\n",
      "\u001b[1m200/200\u001b[0m \u001b[32m━━━━━━━━━━━━━━━━━━━━\u001b[0m\u001b[37m\u001b[0m \u001b[1m6s\u001b[0m 30ms/step - accuracy: 0.9898 - loss: 0.0355 - val_accuracy: 0.9948 - val_loss: 0.0166\n",
      "Epoch 135/200\n",
      "\u001b[1m200/200\u001b[0m \u001b[32m━━━━━━━━━━━━━━━━━━━━\u001b[0m\u001b[37m\u001b[0m \u001b[1m6s\u001b[0m 31ms/step - accuracy: 0.9875 - loss: 0.0382 - val_accuracy: 0.9940 - val_loss: 0.0204\n",
      "Epoch 136/200\n",
      "\u001b[1m200/200\u001b[0m \u001b[32m━━━━━━━━━━━━━━━━━━━━\u001b[0m\u001b[37m\u001b[0m \u001b[1m6s\u001b[0m 31ms/step - accuracy: 0.9906 - loss: 0.0344 - val_accuracy: 0.9945 - val_loss: 0.0191\n",
      "Epoch 137/200\n",
      "\u001b[1m200/200\u001b[0m \u001b[32m━━━━━━━━━━━━━━━━━━━━\u001b[0m\u001b[37m\u001b[0m \u001b[1m6s\u001b[0m 32ms/step - accuracy: 0.9902 - loss: 0.0286 - val_accuracy: 0.9948 - val_loss: 0.0188\n",
      "Epoch 137: early stopping\n",
      "Restoring model weights from the end of the best epoch: 107.\n"
     ]
    }
   ],
   "source": [
    "# Démarrage de l'entrainement du réseau\n",
    "hist = model.fit(datagen.flow(X_train, Y_train, batch_size=32),\n",
    "                           steps_per_epoch=200,              # nombre image entrainement / batch_size\n",
    "                           epochs=200,                       # nombre de boucle à réaliser sur le jeu de données complet\n",
    "                           verbose=1,                        # verbosité\n",
    "                           callbacks = [earlystop],          # callback pour arrêt si non progression\n",
    "                           validation_data=(X_val, Y_val))   # données de validation (X(données) et y(labels))"
   ]
  },
  {
   "cell_type": "markdown",
   "id": "dae8b3c1",
   "metadata": {},
   "source": [
    "### Courbe d'apprentissage"
   ]
  },
  {
   "cell_type": "code",
   "execution_count": 150,
   "id": "348d7170",
   "metadata": {},
   "outputs": [
    {
     "data": {
      "image/png": "[encoded data removed]",
      "text/plain": [
       "<Figure size 640x480 with 1 Axes>"
      ]
     },
     "metadata": {},
     "output_type": "display_data"
    },
    {
     "data": {
      "image/png": "[encoded data removed]",
      "text/plain": [
       "<Figure size 640x480 with 1 Axes>"
      ]
     },
     "metadata": {},
     "output_type": "display_data"
    }
   ],
   "source": [
    "plt.plot(hist.history['loss'], color='b')\n",
    "plt.plot(hist.history['val_loss'], color='r')\n",
    "plt.show()\n",
    "plt.plot(hist.history['accuracy'], color='b')\n",
    "plt.plot(hist.history['val_accuracy'], color='r')\n",
    "plt.show()"
   ]
  },
  {
   "cell_type": "code",
   "execution_count": 151,
   "id": "cdddddb3",
   "metadata": {},
   "outputs": [
    {
     "name": "stdout",
     "output_type": "stream",
     "text": [
      "\u001b[1m132/132\u001b[0m \u001b[32m━━━━━━━━━━━━━━━━━━━━\u001b[0m\u001b[37m\u001b[0m \u001b[1m1s\u001b[0m 9ms/step\n"
     ]
    },
    {
     "data": {
      "text/plain": [
       "array([1.0000000e+00, 1.4319458e-10, 1.2792675e-09, 2.2540554e-11,\n",
       "       4.0215931e-11, 2.3716766e-09, 1.2000866e-08, 5.5111911e-09,\n",
       "       2.2429042e-08, 5.2746563e-09], dtype=float32)"
      ]
     },
     "execution_count": 151,
     "metadata": {},
     "output_type": "execute_result"
    }
   ],
   "source": [
    "# Prédictions et vecteur de probabilité\n",
    "Y_hat = model.predict(X_val)\n",
    "Y_hat[0]"
   ]
  },
  {
   "cell_type": "code",
   "execution_count": 153,
   "id": "3c77cddd",
   "metadata": {},
   "outputs": [],
   "source": [
    "# Génération des vecteurs de verité (Y_true) et de prédiction (Y_pred)\n",
    "Y_pred = np.argmax(Y_hat, axis=1)\n",
    "Y_true = np.argmax(Y_val, axis=1)"
   ]
  },
  {
   "cell_type": "code",
   "execution_count": 154,
   "id": "34af27d5",
   "metadata": {},
   "outputs": [
    {
     "data": {
      "image/png": "[encoded data removed]",
      "text/plain": [
       "<Figure size 640x480 with 1 Axes>"
      ]
     },
     "metadata": {},
     "output_type": "display_data"
    }
   ],
   "source": [
    "# Génération d'une matrice de confusion pour observer les erreurs\n",
    "# Toutes les valeurs sortant de la diagonales sont les erreurs de classification\n",
    "\n",
    "cm = confusion_matrix(Y_true, Y_pred)\n",
    "fig, ax = plot_confusion_matrix(conf_mat=cm)\n",
    "plt.show()"
   ]
  },
  {
   "cell_type": "code",
   "execution_count": 155,
   "id": "15f090cc",
   "metadata": {},
   "outputs": [
    {
     "data": {
      "text/plain": [
       "array([  25,   87, 1074, 1395, 2262, 2296, 2438, 2457, 2568, 2847, 3176,\n",
       "       3372, 3429, 3558, 3891, 4123])"
      ]
     },
     "execution_count": 155,
     "metadata": {},
     "output_type": "execute_result"
    }
   ],
   "source": [
    "# On identifie les indices qui ont été mal classifié\n",
    "\n",
    "diff_indices = np.where(Y_true != Y_pred)[0]\n",
    "diff_indices"
   ]
  },
  {
   "cell_type": "code",
   "execution_count": 156,
   "id": "49f3c414",
   "metadata": {},
   "outputs": [],
   "source": [
    "# On met les mauvaises classifications dans une array que l'on met aux bonnes dimensions pour affichage\n",
    "\n",
    "X_err = X_val[diff_indices]\n",
    "X_err = X_err*255\n",
    "X_err = X_err.reshape(X_err.shape[0],28, 28)"
   ]
  },
  {
   "cell_type": "code",
   "execution_count": null,
   "id": "b21f3d8b",
   "metadata": {},
   "outputs": [
    {
     "name": "stdout",
     "output_type": "stream",
     "text": [
      "Image: 0 - Indice: 25: Vérité 6, Prédiction: 8 avec proba: 0.8392741680145264\n",
      "Image: 1 - Indice: 87: Vérité 9, Prédiction: 8 avec proba: 0.7405717968940735\n",
      "Image: 2 - Indice: 1074: Vérité 2, Prédiction: 8 avec proba: 0.7702152132987976\n",
      "Image: 3 - Indice: 1395: Vérité 0, Prédiction: 8 avec proba: 0.46280401945114136\n",
      "Image: 4 - Indice: 2262: Vérité 1, Prédiction: 7 avec proba: 0.7612863779067993\n",
      "Image: 5 - Indice: 2296: Vérité 5, Prédiction: 3 avec proba: 0.5071064233779907\n",
      "Image: 6 - Indice: 2438: Vérité 8, Prédiction: 2 avec proba: 0.6331110596656799\n",
      "Image: 7 - Indice: 2457: Vérité 9, Prédiction: 3 avec proba: 0.7400121092796326\n",
      "Image: 8 - Indice: 2568: Vérité 8, Prédiction: 1 avec proba: 0.22897884249687195\n",
      "Image: 9 - Indice: 2847: Vérité 2, Prédiction: 1 avec proba: 0.5083280205726624\n",
      "\n"
     ]
    },
    {
     "data": {
      "image/png": "[encoded data removed]",
      "text/plain": [
       "<Figure size 6000x2000 with 10 Axes>"
      ]
     },
     "metadata": {},
     "output_type": "display_data"
    }
   ],
   "source": [
    "# Affichage de 10 images incorrectes\n",
    "plt.figure(figsize=(60, 20))\n",
    "for i in range (0, 10):\n",
    "    print(\"Image: {} - Indice: {}: Vérité {}, Prédiction: {} avec proba: {}\".format(i, diff_indices[i], Y_true[diff_indices[i]], Y_pred[diff_indices[i]], Y_hat[diff_indices[i]][Y_pred[diff_indices[i]]] ))\n",
    "    plt.subplot(1, 28, i + 1)\n",
    "    plt.imshow(X_err[i])\n",
    "    plt.title(f'V={Y_true[diff_indices[i]]} P={Y_pred[diff_indices[i]]}')\n",
    "    plt.axis('off')\n",
    "\n",
    "print(\"\")\n",
    "plt.show()"
   ]
  },
  {
   "cell_type": "markdown",
   "id": "9b09ac2d",
   "metadata": {},
   "source": [
    "### test du modèle"
   ]
  },
  {
   "cell_type": "code",
   "execution_count": 159,
   "id": "029d1f9f",
   "metadata": {},
   "outputs": [],
   "source": [
    "X_test = pd.read_csv(test_dir) #lecture du fichier de test\n",
    "\n",
    "#on fait pareil que pour les données d'entrainement\n",
    "#on fait un reshape\n",
    "X_test = X_test.values.reshape(-1, 28,28,1)\n",
    "\n",
    "# normalisation\n",
    "X_test = X_test / 255.0\n"
   ]
  },
  {
   "cell_type": "code",
   "execution_count": 160,
   "id": "c276aad3",
   "metadata": {},
   "outputs": [
    {
     "name": "stdout",
     "output_type": "stream",
     "text": [
      "\u001b[1m875/875\u001b[0m \u001b[32m━━━━━━━━━━━━━━━━━━━━\u001b[0m\u001b[37m\u001b[0m \u001b[1m7s\u001b[0m 8ms/step\n"
     ]
    }
   ],
   "source": [
    "Y_hat = model.predict(X_test, verbose=1)\n",
    "Y_pred = np.argmax(Y_hat, axis=1)"
   ]
  },
  {
   "cell_type": "code",
   "execution_count": 161,
   "id": "adf462d9",
   "metadata": {},
   "outputs": [],
   "source": [
    "# Soumission et Enregistrement des résultats\n",
    "results = pd.Series(Y_pred, name=\"Label\")\n",
    "submission = pd.concat([pd.Series(range(1,28001),name = \"ImageId\"),results],axis = 1)\n",
    "submission.to_csv(\"submission.csv\",index=False)"
   ]
  },
  {
   "cell_type": "markdown",
   "id": "b0bdbb95",
   "metadata": {},
   "source": [
    "# visualisation du modèle"
   ]
  },
  {
   "cell_type": "code",
   "execution_count": 162,
   "id": "8c642612",
   "metadata": {},
   "outputs": [
    {
     "data": {
      "text/html": [
       "<div>\n",
       "<style scoped>\n",
       "    .dataframe tbody tr th:only-of-type {\n",
       "        vertical-align: middle;\n",
       "    }\n",
       "\n",
       "    .dataframe tbody tr th {\n",
       "        vertical-align: top;\n",
       "    }\n",
       "\n",
       "    .dataframe thead th {\n",
       "        text-align: right;\n",
       "    }\n",
       "</style>\n",
       "<table border=\"1\" class=\"dataframe\">\n",
       "  <thead>\n",
       "    <tr style=\"text-align: right;\">\n",
       "      <th></th>\n",
       "      <th>ImageId</th>\n",
       "      <th>Label</th>\n",
       "    </tr>\n",
       "  </thead>\n",
       "  <tbody>\n",
       "    <tr>\n",
       "      <th>0</th>\n",
       "      <td>1</td>\n",
       "      <td>2</td>\n",
       "    </tr>\n",
       "    <tr>\n",
       "      <th>1</th>\n",
       "      <td>2</td>\n",
       "      <td>0</td>\n",
       "    </tr>\n",
       "    <tr>\n",
       "      <th>2</th>\n",
       "      <td>3</td>\n",
       "      <td>9</td>\n",
       "    </tr>\n",
       "    <tr>\n",
       "      <th>3</th>\n",
       "      <td>4</td>\n",
       "      <td>0</td>\n",
       "    </tr>\n",
       "    <tr>\n",
       "      <th>4</th>\n",
       "      <td>5</td>\n",
       "      <td>3</td>\n",
       "    </tr>\n",
       "  </tbody>\n",
       "</table>\n",
       "</div>"
      ],
      "text/plain": [
       "   ImageId  Label\n",
       "0        1      2\n",
       "1        2      0\n",
       "2        3      9\n",
       "3        4      0\n",
       "4        5      3"
      ]
     },
     "execution_count": 162,
     "metadata": {},
     "output_type": "execute_result"
    }
   ],
   "source": [
    "submission = pd.read_csv(\"submission.csv\")\n",
    "submission.head()"
   ]
  },
  {
   "cell_type": "code",
   "execution_count": 166,
   "id": "5e07ed83",
   "metadata": {},
   "outputs": [
    {
     "data": {
      "image/png": "[encoded data removed]",
      "text/plain": [
       "<Figure size 1200x500 with 2 Axes>"
      ]
     },
     "metadata": {},
     "output_type": "display_data"
    }
   ],
   "source": [
    "plt.figure(figsize=(12,5))\n",
    "\n",
    "# Loss\n",
    "plt.subplot(1,2,1)\n",
    "plt.plot(hist.history['loss'], label='train_loss')\n",
    "plt.plot(hist.history['val_loss'], label='val_loss')\n",
    "plt.title(\"Loss\")\n",
    "plt.xlabel(\"Epochs\")\n",
    "plt.ylabel(\"Loss\")\n",
    "plt.legend()\n",
    "\n",
    "# Accuracy\n",
    "plt.subplot(1,2,2)\n",
    "plt.plot(hist.history['accuracy'], label='train_acc')\n",
    "plt.plot(hist.history['val_accuracy'], label='val_acc')\n",
    "plt.title(\"Accuracy\")\n",
    "plt.xlabel(\"Epochs\")\n",
    "plt.ylabel(\"Accuracy\")\n",
    "plt.legend()\n",
    "\n",
    "plt.show()"
   ]
  },
  {
   "cell_type": "code",
   "execution_count": 167,
   "id": "6ffb77c5",
   "metadata": {},
   "outputs": [
    {
     "data": {
      "image/png": "[encoded data removed]",
      "text/plain": [
       "<Figure size 1500x400 with 10 Axes>"
      ]
     },
     "metadata": {},
     "output_type": "display_data"
    }
   ],
   "source": [
    "import numpy as np\n",
    "import matplotlib.pyplot as plt\n",
    "\n",
    "# Sélection de 10 images au hasard\n",
    "indices = np.random.choice(len(X_test), 10, replace=False)\n",
    "\n",
    "plt.figure(figsize=(15,4))\n",
    "for i, idx in enumerate(indices):\n",
    "    img = X_test[idx].reshape(28,28)\n",
    "    plt.subplot(2,5,i+1)\n",
    "    plt.imshow(img, cmap='gray')\n",
    "    plt.title(f\"Pred: {submission['Label'][idx]}\")\n",
    "    plt.axis('off')\n",
    "plt.show()\n"
   ]
  },
  {
   "cell_type": "code",
   "execution_count": 168,
   "id": "2bb54630",
   "metadata": {},
   "outputs": [
    {
     "data": {
      "image/png": "[encoded data removed]",
      "text/plain": [
       "<Figure size 640x480 with 1 Axes>"
      ]
     },
     "metadata": {},
     "output_type": "display_data"
    }
   ],
   "source": [
    "submission['Label'].value_counts().sort_index().plot(kind='bar')\n",
    "plt.xlabel(\"Classe\")\n",
    "plt.ylabel(\"Nombre de prédictions\")\n",
    "plt.title(\"Répartition des classes prédites\")\n",
    "plt.show()\n"
   ]
  },
  {
   "cell_type": "code",
   "execution_count": 173,
   "id": "1645b46a",
   "metadata": {},
   "outputs": [],
   "source": [
    "# Sauvegarde complète (architecture + poids + optimizer)\n",
    "model.save(\"mon_modele_mnist.keras\")\n",
    "\n",
    "# Pour recharger plus tard\n",
    "from tensorflow.keras.models import load_model\n",
    "model = load_model(\"mon_modele_mnist.keras\")\n",
    "\n",
    "model.save_weights(\"poids_mnist.weights.h5\")\n",
    "model.load_weights(\"poids_mnist.weights.h5\")\n"
   ]
  },
  {
   "cell_type": "code",
   "execution_count": null,
   "id": "e5c29725",
   "metadata": {},
   "outputs": [],
   "source": []
  }
 ],
 "metadata": {
  "kernelspec": {
   "display_name": "Python 3",
   "language": "python",
   "name": "python3"
  },
  "language_info": {
   "codemirror_mode": {
    "name": "ipython",
    "version": 3
   },
   "file_extension": ".py",
   "mimetype": "text/x-python",
   "name": "python",
   "nbconvert_exporter": "python",
   "pygments_lexer": "ipython3",
   "version": "3.12.10"
  }
 },
 "nbformat": 4,
 "nbformat_minor": 5
}
