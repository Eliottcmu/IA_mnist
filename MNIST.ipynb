{
 "cells": [
  {
   "cell_type": "markdown",
   "id": "76673347",
   "metadata": {},
   "source": [
    "# MNIST Projet\n"
   ]
  },
  {
   "cell_type": "code",
   "execution_count": 60,
   "id": "5c463f31",
   "metadata": {},
   "outputs": [],
   "source": [
    "#import des librairies\n",
    "\n",
    "import matplotlib.pyplot as plt                           # Plotting\n",
    "import numpy as np                                        # Numpy: Tableau Multidimensionnel\n",
    "import pandas as pd                                       # Panda: Manipulation des Dataframe\n",
    "import seaborn as sns                                     # Librairie de visualisation\n",
    "import keras"
   ]
  },
  {
   "cell_type": "code",
   "execution_count": 61,
   "id": "b913b155",
   "metadata": {},
   "outputs": [],
   "source": [
    "# Librairies Scikit Learn pour la visualisation et le traitement des données\n",
    "\n",
    "from sklearn.model_selection import train_test_split      # Split des jeux de données\n",
    "from sklearn.metrics import confusion_matrix              # Analyse des performances de classification\n",
    "from mlxtend.plotting import plot_confusion_matrix"
   ]
  },
  {
   "cell_type": "code",
   "execution_count": 62,
   "id": "224ef328",
   "metadata": {},
   "outputs": [],
   "source": [
    "import matplotlib.pyplot as plt                           # Plotting\n",
    "import numpy as np                                        # Numpy: Tableau Multidimensionnel\n",
    "import pandas as pd                                       # Panda: Manipulation des Dataframe\n",
    "import seaborn as sns                                     # Librairie de visualisation\n",
    "\n",
    "# Librairies Scikit Learn\n",
    "from sklearn.model_selection import train_test_split      # Split des jeux de données\n",
    "from sklearn.metrics import confusion_matrix              # Analyse des performances de classification\n",
    "from mlxtend.plotting import plot_confusion_matrix\n",
    "\n",
    "# Dataset des chiffres du MNIST\n",
    "from keras.datasets import mnist\n",
    "\n",
    "# Librairies Keras pour la construction du réseau CNN\n",
    "from keras.models import Model, Sequential\n",
    "from keras.models import load_model\n",
    "from keras.layers import Input, Conv2D, MaxPooling2D, BatchNormalization\n",
    "from keras.layers import UpSampling2D, Dropout, Dense, Flatten\n",
    "\n",
    "from tensorflow.keras.utils import plot_model              # Visualisation du modèle crée\n",
    "from tensorflow.keras.callbacks import EarlyStopping       # Permet d'arrêter l'apprentissage quand il n'y a plus de progression\n",
    "from keras.optimizers import Adam    "
   ]
  },
  {
   "cell_type": "code",
   "execution_count": 63,
   "id": "cee54217",
   "metadata": {},
   "outputs": [],
   "source": [
    "# fonction d'affichage pour développer les données matricielles \n",
    "def display_img(X,y,n, label=False):\n",
    "       plt.figure(figsize=(20,2))\n",
    "       for i in range(min(n, len(X))):\n",
    "              ax=plt.subplot(1,n, i+1)\n",
    "              plt.imshow(X.values[i].reshape(28,28))\n",
    "              if label : \n",
    "                     plt.title((\"digit: {}\".format(y.values[i])))\n",
    "              ax.get_xaxis().set_visible(False)\n",
    "              ax.get_yaxis().set_visible(False)\n",
    "              plt.show();"
   ]
  },
  {
   "cell_type": "code",
   "execution_count": 66,
   "id": "85a7c436",
   "metadata": {},
   "outputs": [],
   "source": [
    "#lecture des données\n",
    "# données d'entrainement et données de test\n",
    "\n",
    "train_dir = \"./input/train.csv\"\n",
    "test_dir = \"./input/test.csv\""
   ]
  },
  {
   "cell_type": "code",
   "execution_count": 67,
   "id": "586eae44",
   "metadata": {},
   "outputs": [
    {
     "name": "stdout",
     "output_type": "stream",
     "text": [
      "<class 'pandas.core.frame.DataFrame'>\n",
      "RangeIndex: 42000 entries, 0 to 41999\n",
      "Columns: 785 entries, label to pixel783\n",
      "dtypes: int64(785)\n",
      "memory usage: 251.5 MB\n"
     ]
    }
   ],
   "source": [
    "# Lecture du jeu d'entrainement via pandas depuis un fichier csv\n",
    "df_train = pd.read_csv(train_dir)\n",
    "\n",
    "# Récupération des informations sur le Dataframe du jeu de données\n",
    "df_train.info()"
   ]
  }
 ],
 "metadata": {
  "kernelspec": {
   "display_name": "Python 3",
   "language": "python",
   "name": "python3"
  },
  "language_info": {
   "codemirror_mode": {
    "name": "ipython",
    "version": 3
   },
   "file_extension": ".py",
   "mimetype": "text/x-python",
   "name": "python",
   "nbconvert_exporter": "python",
   "pygments_lexer": "ipython3",
   "version": "3.13.2"
  }
 },
 "nbformat": 4,
 "nbformat_minor": 5
}
